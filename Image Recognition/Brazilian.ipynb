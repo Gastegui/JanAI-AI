{
 "cells": [
  {
   "cell_type": "code",
   "execution_count": 2,
   "metadata": {},
   "outputs": [
    {
     "name": "stdout",
     "output_type": "stream",
     "text": [
      "Cuda available: True\n"
     ]
    }
   ],
   "source": [
    "import torch\n",
    "import torch.nn as nn\n",
    "import torch.optim as optim\n",
    "from torch.utils.data import DataLoader, Dataset\n",
    "import torchvision.transforms as transforms\n",
    "from torchvision.datasets import ImageFolder\n",
    "from tqdm import tqdm\n",
    "from PIL import Image\n",
    "import matplotlib.pyplot as plt\n",
    "import numpy as np\n",
    "import shutil as sh\n",
    "import os\n",
    "import time\n",
    "import random\n",
    "\n",
    "print(f\"Cuda available: {torch.cuda.is_available()}\")"
   ]
  },
  {
   "cell_type": "code",
   "execution_count": 3,
   "metadata": {},
   "outputs": [
    {
     "name": "stdout",
     "output_type": "stream",
     "text": [
      "Using device cuda:0\n",
      "Using 14 workers for loading the datasets\n"
     ]
    }
   ],
   "source": [
    "img_size = 224\n",
    "\n",
    "# Autoencoder stuff\n",
    "batch_size = 32\n",
    "learning_rate = 1e-3\n",
    "num_epochs = 30\n",
    "dropout = 0.1\n",
    "convolutional_kernel = 4\n",
    "max_pool_kernel = 2\n",
    "\n",
    "device = torch.device(\"cuda:0\" if torch.cuda.is_available() else \"cpu\")\n",
    "print(f\"Using device {device}\")\n",
    "\n",
    "workers = os.cpu_count() - 2\n",
    "print(f\"Using {workers} workers for loading the datasets\")"
   ]
  },
  {
   "cell_type": "code",
   "execution_count": 46,
   "metadata": {},
   "outputs": [],
   "source": [
    "def preprocess(org_path: str, train: bool):\n",
    "    arr = org_path.split(\"/\")\n",
    "    dst_start = \"/\".join(arr[:arr.index(\"Datasets\") + 1])\n",
    "    dst = \"\"\n",
    "    if train:\n",
    "        dst = dst_start + \"/Cleaned2/train/\" + \"/\".join(org_path.split(\"/\")[-2:])\n",
    "    else:\n",
    "        dst = dst_start + \"/Cleaned2/validate/\" + \"/\".join(org_path.split(\"/\")[-2:])\n",
    "\n",
    "    if not (dst.endswith(\".jpg\") or dst.endswith(\".jpeg\")):\n",
    "        dst = \".\".join(dst.split(\".\")[:-1]) + \".jpg\"\n",
    "\n",
    "    if os.path.exists(dst):\n",
    "        print(\"File already preprocessed\")\n",
    "        return\n",
    "\n",
    "    image = Image.open(org_path)\n",
    "    image = image.resize((img_size, img_size), Image.Resampling.HAMMING)\n",
    "\n",
    "    if image.mode in (\"RGBA\", \"LA\"): #If the image has transparency, get rid of it\n",
    "        background = Image.new(\"RGB\", image.size, (255, 255, 255)) #Create a white image to act as the background\n",
    "        background.paste(image, mask=image.split()[3]) #Apply this background where there is transparency on the image\n",
    "        image = background\n",
    "\n",
    "    os.makedirs(\"/\".join(dst.split(\"/\")[:-1]), exist_ok=True)\n",
    "    image.save(dst, \"JPEG\")     "
   ]
  },
  {
   "cell_type": "code",
   "execution_count": 47,
   "metadata": {},
   "outputs": [
    {
     "name": "stdout",
     "output_type": "stream",
     "text": [
      "File already preprocessed\n",
      "File already preprocessed\n",
      "File already preprocessed\n",
      "File already preprocessed\n",
      "File already preprocessed\n",
      "File already preprocessed\n",
      "File already preprocessed\n",
      "File already preprocessed\n",
      "File already preprocessed\n",
      "File already preprocessed\n",
      "File already preprocessed\n",
      "File already preprocessed\n",
      "File already preprocessed\n",
      "File already preprocessed\n",
      "File already preprocessed\n",
      "File already preprocessed\n",
      "File already preprocessed\n",
      "File already preprocessed\n",
      "File already preprocessed\n",
      "File already preprocessed\n",
      "File already preprocessed\n",
      "File already preprocessed\n",
      "File already preprocessed\n",
      "File already preprocessed\n",
      "File already preprocessed\n",
      "File already preprocessed\n",
      "File already preprocessed\n",
      "File already preprocessed\n",
      "File already preprocessed\n",
      "File already preprocessed\n",
      "File already preprocessed\n",
      "File already preprocessed\n",
      "File already preprocessed\n",
      "File already preprocessed\n",
      "File already preprocessed\n",
      "File already preprocessed\n",
      "File already preprocessed\n",
      "File already preprocessed\n",
      "File already preprocessed\n",
      "File already preprocessed\n",
      "File already preprocessed\n",
      "File already preprocessed\n",
      "File already preprocessed\n",
      "File already preprocessed\n",
      "File already preprocessed\n",
      "File already preprocessed\n",
      "File already preprocessed\n",
      "File already preprocessed\n",
      "File already preprocessed\n",
      "File already preprocessed\n",
      "File already preprocessed\n",
      "File already preprocessed\n",
      "File already preprocessed\n",
      "File already preprocessed\n",
      "File already preprocessed\n",
      "File already preprocessed\n",
      "File already preprocessed\n",
      "File already preprocessed\n",
      "File already preprocessed\n",
      "File already preprocessed\n",
      "File already preprocessed\n",
      "File already preprocessed\n",
      "File already preprocessed\n",
      "File already preprocessed\n",
      "File already preprocessed\n",
      "File already preprocessed\n",
      "File already preprocessed\n",
      "File already preprocessed\n",
      "File already preprocessed\n",
      "File already preprocessed\n",
      "File already preprocessed\n",
      "File already preprocessed\n",
      "File already preprocessed\n",
      "File already preprocessed\n",
      "File already preprocessed\n",
      "File already preprocessed\n",
      "File already preprocessed\n",
      "File already preprocessed\n",
      "File already preprocessed\n",
      "File already preprocessed\n",
      "File already preprocessed\n",
      "File already preprocessed\n",
      "File already preprocessed\n",
      "File already preprocessed\n",
      "File already preprocessed\n",
      "File already preprocessed\n",
      "File already preprocessed\n",
      "File already preprocessed\n",
      "File already preprocessed\n",
      "File already preprocessed\n",
      "File already preprocessed\n",
      "File already preprocessed\n",
      "File already preprocessed\n",
      "File already preprocessed\n",
      "File already preprocessed\n",
      "File already preprocessed\n",
      "File already preprocessed\n",
      "File already preprocessed\n",
      "File already preprocessed\n",
      "File already preprocessed\n",
      "File already preprocessed\n",
      "File already preprocessed\n",
      "File already preprocessed\n",
      "File already preprocessed\n",
      "File already preprocessed\n",
      "File already preprocessed\n",
      "File already preprocessed\n",
      "File already preprocessed\n",
      "File already preprocessed\n",
      "File already preprocessed\n",
      "File already preprocessed\n",
      "File already preprocessed\n",
      "File already preprocessed\n",
      "File already preprocessed\n",
      "File already preprocessed\n",
      "File already preprocessed\n",
      "File already preprocessed\n",
      "File already preprocessed\n",
      "File already preprocessed\n",
      "File already preprocessed\n",
      "File already preprocessed\n",
      "File already preprocessed\n",
      "File already preprocessed\n",
      "File already preprocessed\n",
      "File already preprocessed\n",
      "File already preprocessed\n",
      "File already preprocessed\n",
      "File already preprocessed\n",
      "File already preprocessed\n",
      "File already preprocessed\n",
      "File already preprocessed\n",
      "File already preprocessed\n",
      "File already preprocessed\n",
      "File already preprocessed\n",
      "File already preprocessed\n",
      "File already preprocessed\n",
      "File already preprocessed\n",
      "File already preprocessed\n",
      "File already preprocessed\n",
      "File already preprocessed\n",
      "File already preprocessed\n",
      "File already preprocessed\n",
      "File already preprocessed\n",
      "File already preprocessed\n",
      "File already preprocessed\n",
      "File already preprocessed\n",
      "File already preprocessed\n",
      "File already preprocessed\n",
      "File already preprocessed\n",
      "File already preprocessed\n",
      "File already preprocessed\n",
      "File already preprocessed\n",
      "File already preprocessed\n",
      "File already preprocessed\n",
      "File already preprocessed\n",
      "File already preprocessed\n",
      "File already preprocessed\n",
      "File already preprocessed\n",
      "File already preprocessed\n",
      "File already preprocessed\n",
      "File already preprocessed\n",
      "File already preprocessed\n",
      "File already preprocessed\n",
      "File already preprocessed\n",
      "File already preprocessed\n",
      "File already preprocessed\n",
      "File already preprocessed\n",
      "File already preprocessed\n",
      "File already preprocessed\n",
      "File already preprocessed\n",
      "File already preprocessed\n",
      "File already preprocessed\n",
      "File already preprocessed\n",
      "File already preprocessed\n",
      "File already preprocessed\n",
      "File already preprocessed\n",
      "File already preprocessed\n",
      "File already preprocessed\n",
      "File already preprocessed\n",
      "File already preprocessed\n",
      "File already preprocessed\n",
      "File already preprocessed\n",
      "File already preprocessed\n",
      "File already preprocessed\n",
      "File already preprocessed\n",
      "File already preprocessed\n",
      "File already preprocessed\n",
      "File already preprocessed\n",
      "File already preprocessed\n",
      "File already preprocessed\n",
      "File already preprocessed\n",
      "File already preprocessed\n",
      "File already preprocessed\n",
      "File already preprocessed\n",
      "File already preprocessed\n",
      "File already preprocessed\n",
      "File already preprocessed\n",
      "File already preprocessed\n",
      "File already preprocessed\n",
      "File already preprocessed\n",
      "File already preprocessed\n",
      "File already preprocessed\n",
      "File already preprocessed\n",
      "File already preprocessed\n",
      "File already preprocessed\n",
      "File already preprocessed\n",
      "File already preprocessed\n",
      "File already preprocessed\n",
      "File already preprocessed\n",
      "File already preprocessed\n",
      "File already preprocessed\n",
      "File already preprocessed\n",
      "File already preprocessed\n",
      "File already preprocessed\n",
      "File already preprocessed\n",
      "File already preprocessed\n",
      "File already preprocessed\n",
      "File already preprocessed\n",
      "File already preprocessed\n",
      "File already preprocessed\n",
      "File already preprocessed\n",
      "File already preprocessed\n",
      "File already preprocessed\n",
      "File already preprocessed\n",
      "File already preprocessed\n",
      "File already preprocessed\n",
      "File already preprocessed\n",
      "File already preprocessed\n",
      "File already preprocessed\n",
      "File already preprocessed\n",
      "File already preprocessed\n",
      "File already preprocessed\n",
      "File already preprocessed\n",
      "File already preprocessed\n",
      "File already preprocessed\n",
      "File already preprocessed\n",
      "File already preprocessed\n",
      "File already preprocessed\n",
      "File already preprocessed\n",
      "File already preprocessed\n",
      "File already preprocessed\n",
      "File already preprocessed\n",
      "File already preprocessed\n",
      "File already preprocessed\n",
      "File already preprocessed\n",
      "File already preprocessed\n",
      "File already preprocessed\n",
      "File already preprocessed\n",
      "File already preprocessed\n",
      "File already preprocessed\n",
      "File already preprocessed\n",
      "File already preprocessed\n",
      "File already preprocessed\n",
      "File already preprocessed\n",
      "File already preprocessed\n",
      "File already preprocessed\n",
      "File already preprocessed\n",
      "File already preprocessed\n",
      "File already preprocessed\n",
      "File already preprocessed\n",
      "File already preprocessed\n",
      "File already preprocessed\n",
      "File already preprocessed\n",
      "File already preprocessed\n",
      "File already preprocessed\n",
      "File already preprocessed\n",
      "File already preprocessed\n",
      "File already preprocessed\n",
      "File already preprocessed\n",
      "File already preprocessed\n",
      "File already preprocessed\n",
      "File already preprocessed\n",
      "File already preprocessed\n",
      "File already preprocessed\n",
      "File already preprocessed\n",
      "File already preprocessed\n",
      "File already preprocessed\n",
      "File already preprocessed\n",
      "File already preprocessed\n",
      "File already preprocessed\n",
      "File already preprocessed\n",
      "File already preprocessed\n",
      "File already preprocessed\n",
      "File already preprocessed\n",
      "File already preprocessed\n",
      "File already preprocessed\n",
      "File already preprocessed\n",
      "File already preprocessed\n",
      "File already preprocessed\n",
      "File already preprocessed\n",
      "File already preprocessed\n",
      "File already preprocessed\n",
      "File already preprocessed\n",
      "File already preprocessed\n"
     ]
    }
   ],
   "source": [
    "try:\n",
    "    for dirPath, _, files in os.walk(\"./Datasets/Tipical_Brazilian_Foods/train/\"):\n",
    "        if files:\n",
    "            for file in files:\n",
    "                preprocess(dirPath+\"/\"+file, True)\n",
    "\n",
    "    for dirPath, _, files in os.walk(\"./Datasets/Tipical_Brazilian_Foods/valid/\"):\n",
    "        if files:\n",
    "            for file in files:\n",
    "                preprocess(dirPath+\"/\"+file, False)\n",
    "except FileNotFoundError:\n",
    "    print(\"Couldn't find and image. Problably the dataset doesn't exist or its path is wrong\")"
   ]
  },
  {
   "cell_type": "code",
   "execution_count": 48,
   "metadata": {},
   "outputs": [],
   "source": [
    "transform_train = transforms.Compose([\n",
    "    transforms.RandomHorizontalFlip(),  # Volteo horizontal aleatorio\n",
    "    transforms.RandomRotation(30),      # Rotaciones aleatorias de hasta 30 grados\n",
    "    transforms.ColorJitter(brightness=0.2, contrast=0.2, saturation=0.2, hue=0.2),  # Cambios en color\n",
    "    transforms.ToTensor()\n",
    "])\n",
    "\n",
    "transform_validation = transforms.Compose([\n",
    "    transforms.ToTensor()\n",
    "])\n",
    "\n",
    "train_dataset = ImageFolder('./Datasets/Cleaned2/train', transform=transform_train)\n",
    "validation_dataset = ImageFolder('./Datasets/Cleaned2/validate', transform=transform_train)\n",
    "\n",
    "classes = [\"Acaraje\", \"Arroz_com_pequi\", \"Arroz_de_Cuxa\", \"Barreado\", \"Churrasco\", \"Eisben\", \"Feijoada\", \"Matrinxa\", \"Moqueca_capixaba\", \"Pao_de_queijo\", \"Pato_no_Tucupi\", \"Tacaca\"]\n",
    "\n",
    "train_loader = DataLoader(train_dataset, batch_size=batch_size, shuffle=True, num_workers=workers)\n",
    "validation_loader = DataLoader(validation_dataset, batch_size=batch_size, shuffle=False, num_workers=workers)\n",
    "dataloaders = {\"train\": train_loader, \"validate\": validation_loader}"
   ]
  },
  {
   "cell_type": "code",
   "execution_count": 49,
   "metadata": {},
   "outputs": [],
   "source": [
    "import logging\n",
    "\n",
    "logging.basicConfig(level=logging.INFO)\n",
    "\n",
    "class Print(nn.Module):\n",
    "    def __init__(self, msg: str):\n",
    "        super().__init__()\n",
    "        self.msg = msg\n",
    "\n",
    "    def forward(self, original_tensor: torch.Tensor) -> torch.Tensor:\n",
    "        # print(self.msg)\n",
    "        logging.info(self.msg)\n",
    "        return original_tensor"
   ]
  },
  {
   "cell_type": "code",
   "execution_count": 4,
   "metadata": {},
   "outputs": [],
   "source": [
    "class Classificator(nn.Module):\n",
    "    def __init__(self):\n",
    "        super(Classificator, self).__init__()\n",
    "\n",
    "        self.layers = nn.Sequential(\n",
    "            nn.Conv2d(3, 64, kernel_size=convolutional_kernel, stride=1, padding=2),\n",
    "            nn.MaxPool2d(max_pool_kernel),\n",
    "            # nn.LazyBatchNorm2d(),\n",
    "            nn.ReLU(),\n",
    "            # nn.Dropout(dropout),\n",
    "\n",
    "            nn.Conv2d(64, 128, kernel_size=convolutional_kernel, stride=1, padding=2),\n",
    "            nn.MaxPool2d(max_pool_kernel),\n",
    "            # nn.LazyBatchNorm2d(),\n",
    "            nn.ReLU(),\n",
    "            # nn.Dropout(dropout),\n",
    "\n",
    "            nn.Conv2d(128, 256, kernel_size=convolutional_kernel, stride=1, padding=2),\n",
    "            nn.MaxPool2d(max_pool_kernel),\n",
    "            # nn.LazyBatchNorm2d(),\n",
    "            nn.ReLU(),\n",
    "            # nn.Dropout(dropout),\n",
    "            \n",
    "            nn.Conv2d(256, 512, kernel_size=convolutional_kernel, stride=1, padding=2),\n",
    "            nn.MaxPool2d(max_pool_kernel),\n",
    "            # nn.LazyBatchNorm2d(),\n",
    "            nn.ReLU(),\n",
    "\n",
    "            \n",
    "            # nn.Dropout(dropout),\n",
    "\n",
    "            nn.Flatten(),\n",
    "\n",
    "            nn.Linear(512 * 14 * 14, 512),\n",
    "            # nn.Dropout(dropout),\n",
    "            nn.Linear(512, len(classes))\n",
    "            # nn.Softmax()\n",
    "        )\n",
    "\n",
    "    def forward(self, x):\n",
    "        return self.layers(x)"
   ]
  },
  {
   "cell_type": "code",
   "execution_count": 51,
   "metadata": {},
   "outputs": [
    {
     "name": "stdout",
     "output_type": "stream",
     "text": [
      "Epoch 0/29\n",
      "----------\n"
     ]
    },
    {
     "name": "stderr",
     "output_type": "stream",
     "text": [
      "train phase: 100%|██████████| 8/8 [00:10<00:00,  1.25s/it, Loss=2.37e+3, Accuracy=0.13%]\n"
     ]
    },
    {
     "name": "stdout",
     "output_type": "stream",
     "text": [
      "train Loss: 9.9362 Acc: 0.1088\n"
     ]
    },
    {
     "name": "stderr",
     "output_type": "stream",
     "text": [
      "validate phase: 100%|██████████| 2/2 [00:00<00:00,  2.71it/s, Loss=130, Accuracy=0.00%] \n"
     ]
    },
    {
     "name": "stdout",
     "output_type": "stream",
     "text": [
      "validate Loss: 2.3634 Acc: 0.1455\n",
      "\n",
      "Epoch finished at 0m 11s\n",
      "Epoch 1/29\n",
      "----------\n"
     ]
    },
    {
     "name": "stderr",
     "output_type": "stream",
     "text": [
      "train phase: 100%|██████████| 8/8 [00:09<00:00,  1.21s/it, Loss=573, Accuracy=0.27%] \n"
     ]
    },
    {
     "name": "stdout",
     "output_type": "stream",
     "text": [
      "train Loss: 2.3961 Acc: 0.1841\n"
     ]
    },
    {
     "name": "stderr",
     "output_type": "stream",
     "text": [
      "validate phase: 100%|██████████| 2/2 [00:00<00:00,  2.83it/s, Loss=131, Accuracy=0.48%] \n"
     ]
    },
    {
     "name": "stdout",
     "output_type": "stream",
     "text": [
      "validate Loss: 2.3855 Acc: 0.2000\n",
      "\n",
      "Epoch finished at 0m 21s\n",
      "Epoch 2/29\n",
      "----------\n"
     ]
    },
    {
     "name": "stderr",
     "output_type": "stream",
     "text": [
      "train phase: 100%|██████████| 8/8 [00:09<00:00,  1.21s/it, Loss=569, Accuracy=0.20%] \n"
     ]
    },
    {
     "name": "stdout",
     "output_type": "stream",
     "text": [
      "train Loss: 2.3799 Acc: 0.1883\n"
     ]
    },
    {
     "name": "stderr",
     "output_type": "stream",
     "text": [
      "validate phase: 100%|██████████| 2/2 [00:00<00:00,  2.77it/s, Loss=130, Accuracy=0.48%]\n"
     ]
    },
    {
     "name": "stdout",
     "output_type": "stream",
     "text": [
      "validate Loss: 2.3550 Acc: 0.2000\n",
      "\n",
      "Epoch finished at 0m 32s\n",
      "Epoch 3/29\n",
      "----------\n"
     ]
    },
    {
     "name": "stderr",
     "output_type": "stream",
     "text": [
      "train phase: 100%|██████████| 8/8 [00:09<00:00,  1.21s/it, Loss=564, Accuracy=0.13%] \n"
     ]
    },
    {
     "name": "stdout",
     "output_type": "stream",
     "text": [
      "train Loss: 2.3604 Acc: 0.2008\n"
     ]
    },
    {
     "name": "stderr",
     "output_type": "stream",
     "text": [
      "validate phase: 100%|██████████| 2/2 [00:00<00:00,  2.87it/s, Loss=129, Accuracy=0.48%] \n"
     ]
    },
    {
     "name": "stdout",
     "output_type": "stream",
     "text": [
      "validate Loss: 2.3401 Acc: 0.2000\n",
      "\n",
      "Epoch finished at 0m 42s\n",
      "Epoch 4/29\n",
      "----------\n"
     ]
    },
    {
     "name": "stderr",
     "output_type": "stream",
     "text": [
      "train phase: 100%|██████████| 8/8 [00:09<00:00,  1.21s/it, Loss=558, Accuracy=0.13%] \n"
     ]
    },
    {
     "name": "stdout",
     "output_type": "stream",
     "text": [
      "train Loss: 2.3343 Acc: 0.1883\n"
     ]
    },
    {
     "name": "stderr",
     "output_type": "stream",
     "text": [
      "validate phase: 100%|██████████| 2/2 [00:00<00:00,  2.81it/s, Loss=127, Accuracy=0.39%] \n"
     ]
    },
    {
     "name": "stdout",
     "output_type": "stream",
     "text": [
      "validate Loss: 2.3003 Acc: 0.1636\n",
      "\n",
      "Epoch finished at 0m 52s\n",
      "Epoch 5/29\n",
      "----------\n"
     ]
    },
    {
     "name": "stderr",
     "output_type": "stream",
     "text": [
      "train phase: 100%|██████████| 8/8 [00:09<00:00,  1.21s/it, Loss=542, Accuracy=0.07%] \n"
     ]
    },
    {
     "name": "stdout",
     "output_type": "stream",
     "text": [
      "train Loss: 2.2691 Acc: 0.2636\n"
     ]
    },
    {
     "name": "stderr",
     "output_type": "stream",
     "text": [
      "validate phase: 100%|██████████| 2/2 [00:00<00:00,  2.82it/s, Loss=126, Accuracy=0.52%] \n"
     ]
    },
    {
     "name": "stdout",
     "output_type": "stream",
     "text": [
      "validate Loss: 2.2848 Acc: 0.2364\n",
      "\n",
      "Epoch finished at 1m 3s\n",
      "Epoch 6/29\n",
      "----------\n"
     ]
    },
    {
     "name": "stderr",
     "output_type": "stream",
     "text": [
      "train phase: 100%|██████████| 8/8 [00:09<00:00,  1.21s/it, Loss=528, Accuracy=0.27%] \n"
     ]
    },
    {
     "name": "stdout",
     "output_type": "stream",
     "text": [
      "train Loss: 2.2099 Acc: 0.2971\n"
     ]
    },
    {
     "name": "stderr",
     "output_type": "stream",
     "text": [
      "validate phase: 100%|██████████| 2/2 [00:00<00:00,  2.76it/s, Loss=134, Accuracy=0.48%] \n"
     ]
    },
    {
     "name": "stdout",
     "output_type": "stream",
     "text": [
      "validate Loss: 2.4354 Acc: 0.2364\n",
      "\n",
      "Epoch finished at 1m 13s\n",
      "Epoch 7/29\n",
      "----------\n"
     ]
    },
    {
     "name": "stderr",
     "output_type": "stream",
     "text": [
      "train phase: 100%|██████████| 8/8 [00:09<00:00,  1.21s/it, Loss=534, Accuracy=0.20%] \n"
     ]
    },
    {
     "name": "stdout",
     "output_type": "stream",
     "text": [
      "train Loss: 2.2325 Acc: 0.2510\n"
     ]
    },
    {
     "name": "stderr",
     "output_type": "stream",
     "text": [
      "validate phase: 100%|██████████| 2/2 [00:00<00:00,  2.75it/s, Loss=123, Accuracy=0.52%] \n"
     ]
    },
    {
     "name": "stdout",
     "output_type": "stream",
     "text": [
      "validate Loss: 2.2283 Acc: 0.2545\n",
      "\n",
      "Epoch finished at 1m 24s\n",
      "Epoch 8/29\n",
      "----------\n"
     ]
    },
    {
     "name": "stderr",
     "output_type": "stream",
     "text": [
      "train phase: 100%|██████████| 8/8 [00:09<00:00,  1.21s/it, Loss=503, Accuracy=0.20%] \n"
     ]
    },
    {
     "name": "stdout",
     "output_type": "stream",
     "text": [
      "train Loss: 2.1038 Acc: 0.3138\n"
     ]
    },
    {
     "name": "stderr",
     "output_type": "stream",
     "text": [
      "validate phase: 100%|██████████| 2/2 [00:00<00:00,  2.84it/s, Loss=120, Accuracy=0.17%] \n"
     ]
    },
    {
     "name": "stdout",
     "output_type": "stream",
     "text": [
      "validate Loss: 2.1827 Acc: 0.2364\n",
      "\n",
      "Epoch finished at 1m 34s\n",
      "Epoch 9/29\n",
      "----------\n"
     ]
    },
    {
     "name": "stderr",
     "output_type": "stream",
     "text": [
      "train phase: 100%|██████████| 8/8 [00:09<00:00,  1.21s/it, Loss=505, Accuracy=0.33%] \n"
     ]
    },
    {
     "name": "stdout",
     "output_type": "stream",
     "text": [
      "train Loss: 2.1149 Acc: 0.2762\n"
     ]
    },
    {
     "name": "stderr",
     "output_type": "stream",
     "text": [
      "validate phase: 100%|██████████| 2/2 [00:00<00:00,  2.80it/s, Loss=117, Accuracy=0.48%]\n"
     ]
    },
    {
     "name": "stdout",
     "output_type": "stream",
     "text": [
      "validate Loss: 2.1354 Acc: 0.3091\n",
      "\n",
      "Epoch finished at 1m 44s\n",
      "Epoch 10/29\n",
      "----------\n"
     ]
    },
    {
     "name": "stderr",
     "output_type": "stream",
     "text": [
      "train phase: 100%|██████████| 8/8 [00:09<00:00,  1.21s/it, Loss=477, Accuracy=0.33%] \n"
     ]
    },
    {
     "name": "stdout",
     "output_type": "stream",
     "text": [
      "train Loss: 1.9971 Acc: 0.3138\n"
     ]
    },
    {
     "name": "stderr",
     "output_type": "stream",
     "text": [
      "validate phase: 100%|██████████| 2/2 [00:00<00:00,  2.91it/s, Loss=125, Accuracy=0.39%] \n"
     ]
    },
    {
     "name": "stdout",
     "output_type": "stream",
     "text": [
      "validate Loss: 2.2655 Acc: 0.2364\n",
      "\n",
      "Epoch finished at 1m 55s\n",
      "Epoch 11/29\n",
      "----------\n"
     ]
    },
    {
     "name": "stderr",
     "output_type": "stream",
     "text": [
      "train phase: 100%|██████████| 8/8 [00:09<00:00,  1.21s/it, Loss=472, Accuracy=0.33%] \n"
     ]
    },
    {
     "name": "stdout",
     "output_type": "stream",
     "text": [
      "train Loss: 1.9758 Acc: 0.3515\n"
     ]
    },
    {
     "name": "stderr",
     "output_type": "stream",
     "text": [
      "validate phase: 100%|██████████| 2/2 [00:00<00:00,  2.78it/s, Loss=113, Accuracy=0.43%] \n"
     ]
    },
    {
     "name": "stdout",
     "output_type": "stream",
     "text": [
      "validate Loss: 2.0581 Acc: 0.2364\n",
      "\n",
      "Epoch finished at 2m 5s\n",
      "Epoch 12/29\n",
      "----------\n"
     ]
    },
    {
     "name": "stderr",
     "output_type": "stream",
     "text": [
      "train phase: 100%|██████████| 8/8 [00:09<00:00,  1.21s/it, Loss=436, Accuracy=0.40%] \n"
     ]
    },
    {
     "name": "stdout",
     "output_type": "stream",
     "text": [
      "train Loss: 1.8235 Acc: 0.3724\n"
     ]
    },
    {
     "name": "stderr",
     "output_type": "stream",
     "text": [
      "validate phase: 100%|██████████| 2/2 [00:00<00:00,  2.75it/s, Loss=122, Accuracy=0.43%] \n"
     ]
    },
    {
     "name": "stdout",
     "output_type": "stream",
     "text": [
      "validate Loss: 2.2162 Acc: 0.3273\n",
      "\n",
      "Epoch finished at 2m 16s\n",
      "Epoch 13/29\n",
      "----------\n"
     ]
    },
    {
     "name": "stderr",
     "output_type": "stream",
     "text": [
      "train phase: 100%|██████████| 8/8 [00:09<00:00,  1.20s/it, Loss=419, Accuracy=0.27%]\n"
     ]
    },
    {
     "name": "stdout",
     "output_type": "stream",
     "text": [
      "train Loss: 1.7535 Acc: 0.4059\n"
     ]
    },
    {
     "name": "stderr",
     "output_type": "stream",
     "text": [
      "validate phase: 100%|██████████| 2/2 [00:00<00:00,  2.76it/s, Loss=124, Accuracy=0.43%] \n"
     ]
    },
    {
     "name": "stdout",
     "output_type": "stream",
     "text": [
      "validate Loss: 2.2618 Acc: 0.2364\n",
      "\n",
      "Epoch finished at 2m 26s\n",
      "Epoch 14/29\n",
      "----------\n"
     ]
    },
    {
     "name": "stderr",
     "output_type": "stream",
     "text": [
      "train phase: 100%|██████████| 8/8 [00:09<00:00,  1.21s/it, Loss=422, Accuracy=0.27%] \n"
     ]
    },
    {
     "name": "stdout",
     "output_type": "stream",
     "text": [
      "train Loss: 1.7650 Acc: 0.3808\n"
     ]
    },
    {
     "name": "stderr",
     "output_type": "stream",
     "text": [
      "validate phase: 100%|██████████| 2/2 [00:00<00:00,  2.77it/s, Loss=123, Accuracy=0.57%]\n"
     ]
    },
    {
     "name": "stdout",
     "output_type": "stream",
     "text": [
      "validate Loss: 2.2330 Acc: 0.3091\n",
      "\n",
      "Epoch finished at 2m 36s\n",
      "Epoch 15/29\n",
      "----------\n"
     ]
    },
    {
     "name": "stderr",
     "output_type": "stream",
     "text": [
      "train phase: 100%|██████████| 8/8 [00:09<00:00,  1.21s/it, Loss=397, Accuracy=0.47%] \n"
     ]
    },
    {
     "name": "stdout",
     "output_type": "stream",
     "text": [
      "train Loss: 1.6614 Acc: 0.4435\n"
     ]
    },
    {
     "name": "stderr",
     "output_type": "stream",
     "text": [
      "validate phase: 100%|██████████| 2/2 [00:00<00:00,  2.71it/s, Loss=110, Accuracy=0.70%] \n"
     ]
    },
    {
     "name": "stdout",
     "output_type": "stream",
     "text": [
      "validate Loss: 1.9953 Acc: 0.4364\n",
      "\n",
      "Epoch finished at 2m 47s\n",
      "Epoch 16/29\n",
      "----------\n"
     ]
    },
    {
     "name": "stderr",
     "output_type": "stream",
     "text": [
      "train phase: 100%|██████████| 8/8 [00:09<00:00,  1.21s/it, Loss=342, Accuracy=0.67%] \n"
     ]
    },
    {
     "name": "stdout",
     "output_type": "stream",
     "text": [
      "train Loss: 1.4289 Acc: 0.5105\n"
     ]
    },
    {
     "name": "stderr",
     "output_type": "stream",
     "text": [
      "validate phase: 100%|██████████| 2/2 [00:00<00:00,  2.56it/s, Loss=129, Accuracy=0.61%] \n"
     ]
    },
    {
     "name": "stdout",
     "output_type": "stream",
     "text": [
      "validate Loss: 2.3438 Acc: 0.4182\n",
      "\n",
      "Epoch finished at 2m 57s\n",
      "Epoch 17/29\n",
      "----------\n"
     ]
    },
    {
     "name": "stderr",
     "output_type": "stream",
     "text": [
      "train phase: 100%|██████████| 8/8 [00:09<00:00,  1.21s/it, Loss=378, Accuracy=0.27%] \n"
     ]
    },
    {
     "name": "stdout",
     "output_type": "stream",
     "text": [
      "train Loss: 1.5800 Acc: 0.4854\n"
     ]
    },
    {
     "name": "stderr",
     "output_type": "stream",
     "text": [
      "validate phase: 100%|██████████| 2/2 [00:00<00:00,  2.88it/s, Loss=108, Accuracy=0.61%] \n"
     ]
    },
    {
     "name": "stdout",
     "output_type": "stream",
     "text": [
      "validate Loss: 1.9663 Acc: 0.4364\n",
      "\n",
      "Epoch finished at 3m 8s\n",
      "Epoch 18/29\n",
      "----------\n"
     ]
    },
    {
     "name": "stderr",
     "output_type": "stream",
     "text": [
      "train phase: 100%|██████████| 8/8 [00:09<00:00,  1.21s/it, Loss=314, Accuracy=0.53%] \n"
     ]
    },
    {
     "name": "stdout",
     "output_type": "stream",
     "text": [
      "train Loss: 1.3134 Acc: 0.5649\n"
     ]
    },
    {
     "name": "stderr",
     "output_type": "stream",
     "text": [
      "validate phase: 100%|██████████| 2/2 [00:00<00:00,  2.78it/s, Loss=107, Accuracy=0.57%] \n"
     ]
    },
    {
     "name": "stdout",
     "output_type": "stream",
     "text": [
      "validate Loss: 1.9464 Acc: 0.4182\n",
      "\n",
      "Epoch finished at 3m 18s\n",
      "Epoch 19/29\n",
      "----------\n"
     ]
    },
    {
     "name": "stderr",
     "output_type": "stream",
     "text": [
      "train phase: 100%|██████████| 8/8 [00:09<00:00,  1.21s/it, Loss=296, Accuracy=0.73%] \n"
     ]
    },
    {
     "name": "stdout",
     "output_type": "stream",
     "text": [
      "train Loss: 1.2390 Acc: 0.5858\n"
     ]
    },
    {
     "name": "stderr",
     "output_type": "stream",
     "text": [
      "validate phase: 100%|██████████| 2/2 [00:00<00:00,  2.80it/s, Loss=111, Accuracy=0.57%] \n"
     ]
    },
    {
     "name": "stdout",
     "output_type": "stream",
     "text": [
      "validate Loss: 2.0118 Acc: 0.4545\n",
      "\n",
      "Epoch finished at 3m 28s\n",
      "Epoch 20/29\n",
      "----------\n"
     ]
    },
    {
     "name": "stderr",
     "output_type": "stream",
     "text": [
      "train phase: 100%|██████████| 8/8 [00:09<00:00,  1.21s/it, Loss=270, Accuracy=0.53%] \n"
     ]
    },
    {
     "name": "stdout",
     "output_type": "stream",
     "text": [
      "train Loss: 1.1305 Acc: 0.5816\n"
     ]
    },
    {
     "name": "stderr",
     "output_type": "stream",
     "text": [
      "validate phase: 100%|██████████| 2/2 [00:00<00:00,  2.80it/s, Loss=126, Accuracy=0.70%] \n"
     ]
    },
    {
     "name": "stdout",
     "output_type": "stream",
     "text": [
      "validate Loss: 2.2917 Acc: 0.4364\n",
      "\n",
      "Epoch finished at 3m 39s\n",
      "Epoch 21/29\n",
      "----------\n"
     ]
    },
    {
     "name": "stderr",
     "output_type": "stream",
     "text": [
      "train phase: 100%|██████████| 8/8 [00:09<00:00,  1.21s/it, Loss=346, Accuracy=0.40%] \n"
     ]
    },
    {
     "name": "stdout",
     "output_type": "stream",
     "text": [
      "train Loss: 1.4465 Acc: 0.5356\n"
     ]
    },
    {
     "name": "stderr",
     "output_type": "stream",
     "text": [
      "validate phase: 100%|██████████| 2/2 [00:00<00:00,  2.82it/s, Loss=89.2, Accuracy=0.57%]\n"
     ]
    },
    {
     "name": "stdout",
     "output_type": "stream",
     "text": [
      "validate Loss: 1.6224 Acc: 0.5455\n",
      "\n",
      "Epoch finished at 3m 49s\n",
      "Epoch 22/29\n",
      "----------\n"
     ]
    },
    {
     "name": "stderr",
     "output_type": "stream",
     "text": [
      "train phase: 100%|██████████| 8/8 [00:09<00:00,  1.21s/it, Loss=280, Accuracy=0.60%] \n"
     ]
    },
    {
     "name": "stdout",
     "output_type": "stream",
     "text": [
      "train Loss: 1.1732 Acc: 0.6151\n"
     ]
    },
    {
     "name": "stderr",
     "output_type": "stream",
     "text": [
      "validate phase: 100%|██████████| 2/2 [00:00<00:00,  2.70it/s, Loss=107, Accuracy=0.65%] \n"
     ]
    },
    {
     "name": "stdout",
     "output_type": "stream",
     "text": [
      "validate Loss: 1.9474 Acc: 0.4545\n",
      "\n",
      "Epoch finished at 3m 60s\n",
      "Epoch 23/29\n",
      "----------\n"
     ]
    },
    {
     "name": "stderr",
     "output_type": "stream",
     "text": [
      "train phase: 100%|██████████| 8/8 [00:09<00:00,  1.21s/it, Loss=261, Accuracy=0.67%] \n"
     ]
    },
    {
     "name": "stdout",
     "output_type": "stream",
     "text": [
      "train Loss: 1.0930 Acc: 0.6192\n"
     ]
    },
    {
     "name": "stderr",
     "output_type": "stream",
     "text": [
      "validate phase: 100%|██████████| 2/2 [00:00<00:00,  2.70it/s, Loss=107, Accuracy=0.65%] \n"
     ]
    },
    {
     "name": "stdout",
     "output_type": "stream",
     "text": [
      "validate Loss: 1.9424 Acc: 0.5273\n",
      "\n",
      "Epoch finished at 4m 10s\n",
      "Epoch 24/29\n",
      "----------\n"
     ]
    },
    {
     "name": "stderr",
     "output_type": "stream",
     "text": [
      "train phase: 100%|██████████| 8/8 [00:09<00:00,  1.21s/it, Loss=245, Accuracy=0.67%] \n"
     ]
    },
    {
     "name": "stdout",
     "output_type": "stream",
     "text": [
      "train Loss: 1.0269 Acc: 0.6862\n"
     ]
    },
    {
     "name": "stderr",
     "output_type": "stream",
     "text": [
      "validate phase: 100%|██████████| 2/2 [00:00<00:00,  2.75it/s, Loss=92.7, Accuracy=0.61%]\n"
     ]
    },
    {
     "name": "stdout",
     "output_type": "stream",
     "text": [
      "validate Loss: 1.6857 Acc: 0.5091\n",
      "\n",
      "Epoch finished at 4m 21s\n",
      "Epoch 25/29\n",
      "----------\n"
     ]
    },
    {
     "name": "stderr",
     "output_type": "stream",
     "text": [
      "train phase: 100%|██████████| 8/8 [00:09<00:00,  1.21s/it, Loss=207, Accuracy=0.67%] \n"
     ]
    },
    {
     "name": "stdout",
     "output_type": "stream",
     "text": [
      "train Loss: 0.8660 Acc: 0.7322\n"
     ]
    },
    {
     "name": "stderr",
     "output_type": "stream",
     "text": [
      "validate phase: 100%|██████████| 2/2 [00:00<00:00,  2.82it/s, Loss=106, Accuracy=0.61%] \n"
     ]
    },
    {
     "name": "stdout",
     "output_type": "stream",
     "text": [
      "validate Loss: 1.9307 Acc: 0.5273\n",
      "\n",
      "Epoch finished at 4m 31s\n",
      "Epoch 26/29\n",
      "----------\n"
     ]
    },
    {
     "name": "stderr",
     "output_type": "stream",
     "text": [
      "train phase: 100%|██████████| 8/8 [00:09<00:00,  1.21s/it, Loss=234, Accuracy=0.53%] \n"
     ]
    },
    {
     "name": "stdout",
     "output_type": "stream",
     "text": [
      "train Loss: 0.9811 Acc: 0.6444\n"
     ]
    },
    {
     "name": "stderr",
     "output_type": "stream",
     "text": [
      "validate phase: 100%|██████████| 2/2 [00:00<00:00,  2.79it/s, Loss=114, Accuracy=0.70%] \n"
     ]
    },
    {
     "name": "stdout",
     "output_type": "stream",
     "text": [
      "validate Loss: 2.0661 Acc: 0.5091\n",
      "\n",
      "Epoch finished at 4m 41s\n",
      "Epoch 27/29\n",
      "----------\n"
     ]
    },
    {
     "name": "stderr",
     "output_type": "stream",
     "text": [
      "train phase: 100%|██████████| 8/8 [00:09<00:00,  1.21s/it, Loss=195, Accuracy=0.80%] \n"
     ]
    },
    {
     "name": "stdout",
     "output_type": "stream",
     "text": [
      "train Loss: 0.8149 Acc: 0.7448\n"
     ]
    },
    {
     "name": "stderr",
     "output_type": "stream",
     "text": [
      "validate phase: 100%|██████████| 2/2 [00:00<00:00,  2.71it/s, Loss=90.3, Accuracy=0.57%]\n"
     ]
    },
    {
     "name": "stdout",
     "output_type": "stream",
     "text": [
      "validate Loss: 1.6412 Acc: 0.5273\n",
      "\n",
      "Epoch finished at 4m 52s\n",
      "Epoch 28/29\n",
      "----------\n"
     ]
    },
    {
     "name": "stderr",
     "output_type": "stream",
     "text": [
      "train phase: 100%|██████████| 8/8 [00:09<00:00,  1.21s/it, Loss=199, Accuracy=0.53%] \n"
     ]
    },
    {
     "name": "stdout",
     "output_type": "stream",
     "text": [
      "train Loss: 0.8316 Acc: 0.7029\n"
     ]
    },
    {
     "name": "stderr",
     "output_type": "stream",
     "text": [
      "validate phase: 100%|██████████| 2/2 [00:00<00:00,  2.63it/s, Loss=96.3, Accuracy=0.65%]\n"
     ]
    },
    {
     "name": "stdout",
     "output_type": "stream",
     "text": [
      "validate Loss: 1.7508 Acc: 0.4909\n",
      "\n",
      "Epoch finished at 5m 2s\n",
      "Epoch 29/29\n",
      "----------\n"
     ]
    },
    {
     "name": "stderr",
     "output_type": "stream",
     "text": [
      "train phase: 100%|██████████| 8/8 [00:09<00:00,  1.21s/it, Loss=207, Accuracy=0.80%] \n"
     ]
    },
    {
     "name": "stdout",
     "output_type": "stream",
     "text": [
      "train Loss: 0.8653 Acc: 0.7364\n"
     ]
    },
    {
     "name": "stderr",
     "output_type": "stream",
     "text": [
      "validate phase: 100%|██████████| 2/2 [00:00<00:00,  2.66it/s, Loss=99.3, Accuracy=0.74%]\n"
     ]
    },
    {
     "name": "stdout",
     "output_type": "stream",
     "text": [
      "validate Loss: 1.8054 Acc: 0.5273\n",
      "\n",
      "Epoch finished at 5m 13s\n"
     ]
    },
    {
     "data": {
      "image/png": "[encoded data removed]",
      "text/plain": [
       "<Figure size 640x480 with 2 Axes>"
      ]
     },
     "metadata": {},
     "output_type": "display_data"
    }
   ],
   "source": [
    "model = Classificator().to(device)\n",
    "criterion = nn.CrossEntropyLoss()\n",
    "optimizer = optim.Adam(model.parameters(), lr=1e-3)\n",
    "# scheduler = optim.lr_scheduler.ReduceLROnPlateau(optimizer, patience=1)\n",
    "\n",
    "\n",
    "since = time.time()\n",
    "train_acc = []\n",
    "val_acc = []\n",
    "train_loss = []\n",
    "val_loss = []\n",
    "\n",
    "for epoch in range(num_epochs):\n",
    "    print(f\"Epoch {epoch}/{num_epochs-1}\")\n",
    "    print(\"-\"*10)\n",
    "\n",
    "    for phase in [\"train\", \"validate\"]:\n",
    "        if phase == \"train\":\n",
    "            model.train()\n",
    "        else:\n",
    "            model.eval()\n",
    "        \n",
    "        running_loss = 0.0\n",
    "        running_corrects = 0\n",
    "\n",
    "        with tqdm(total=len(dataloaders[phase]), desc=f\"{phase} phase\") as pbar:\n",
    "            for inputs, labels, in dataloaders[phase]:\n",
    "                inputs = inputs.to(device)\n",
    "                labels = labels.to(device)\n",
    "\n",
    "                optimizer.zero_grad()\n",
    "\n",
    "                with torch.set_grad_enabled(phase == \"train\"):\n",
    "                    outputs = model(inputs)\n",
    "                    _, preds = torch.max(outputs, 1)\n",
    "                    loss = criterion(outputs, labels)\n",
    "\n",
    "                    if phase == \"train\":\n",
    "                        loss.backward()\n",
    "                        optimizer.step()\n",
    "\n",
    "                running_loss += loss.item() * inputs.size(0)\n",
    "                running_corrects += torch.sum(preds == labels.data)\n",
    "                batch_acc = (torch.sum(preds == labels.data).item() / inputs.size(0))\n",
    "                pbar.set_postfix({\"Loss\": running_loss, \"Accuracy\": f\"{batch_acc:.2f}%\"})\n",
    "                pbar.update(1)\n",
    "\n",
    "\n",
    "        epoch_loss = running_loss / len(dataloaders[phase].dataset)\n",
    "        epoch_acc = running_corrects.double() / len(dataloaders[phase].dataset)\n",
    "        \n",
    "        # if phase == \"validate\":\n",
    "        #     scheduler.step(epoch_loss)\n",
    "\n",
    "        if phase == \"train\":\n",
    "            train_acc.append(float(epoch_acc))\n",
    "            train_loss.append(float(epoch_loss))\n",
    "        else:\n",
    "            val_acc.append(float(epoch_acc))\n",
    "            val_loss.append(float(epoch_loss))\n",
    "\n",
    "        print(f'{phase} Loss: {epoch_loss:.4f} Acc: {epoch_acc:.4f}')\n",
    "        # print(f\"LR: {scheduler.get_last_lr()[0]}\")\n",
    "    \n",
    "    print()\n",
    "    time_elapsed = time.time() - since\n",
    "    print(f\"Epoch finished at {time_elapsed // 60:.0f}m {time_elapsed % 60:.0f}s\")\n",
    "\n",
    "torch.save(model.state_dict(), \"Brazilian.pth\")\n",
    "\n",
    "\n",
    "plt.subplot(1, 2, 1)\n",
    "plt.plot(range(len(train_acc)), train_acc, label=\"Train\")\n",
    "plt.plot(range(len(val_acc)), val_acc, label=\"Validation\")\n",
    "plt.legend(loc=\"lower right\")\n",
    "plt.title(\"Accuracy\")\n",
    "\n",
    "plt.subplot(1, 2, 2)\n",
    "plt.plot(range(len(train_loss)), train_loss, label=\"Train\")\n",
    "plt.plot(range(len(val_loss)), val_loss, label=\"Validation\")\n",
    "plt.legend(\"lower right\")\n",
    "plt.title(\"Loss\")\n",
    "\n",
    "plt.show()"
   ]
  },
  {
   "cell_type": "code",
   "execution_count": 5,
   "metadata": {},
   "outputs": [],
   "source": [
    "import torch\n",
    "from torchvision import transforms\n",
    "from PIL import Image\n",
    "import numpy as np\n",
    "\n",
    "class ImagePredictor:\n",
    "    def __init__(self, model_path, model_class, class_names, device='cuda' if torch.cuda.is_available() else 'cpu'):\n",
    "        # Initialize a new model instance\n",
    "        self.model = model_class()\n",
    "        # Load the saved state dict\n",
    "        self.model.load_state_dict(torch.load(model_path))\n",
    "        self.model.eval()  # Set to evaluation mode\n",
    "        self.device = device\n",
    "        self.model.to(device)\n",
    "        \n",
    "        # Store class names\n",
    "        self.class_names = class_names\n",
    "        \n",
    "        # Define the same transforms used during training\n",
    "        self.transform = transforms.Compose([\n",
    "            transforms.Resize((224, 224)),\n",
    "            transforms.ToTensor()\n",
    "        ])\n",
    "    \n",
    "    def predict_image(self, image_path):\n",
    "        # Load and preprocess the image\n",
    "        image = Image.open(image_path).convert('RGB')\n",
    "        image_tensor = self.transform(image).unsqueeze(0)  # Add batch dimension\n",
    "        image_tensor = image_tensor.to(self.device)\n",
    "        \n",
    "        # Make prediction\n",
    "        with torch.no_grad():\n",
    "            outputs = self.model(image_tensor)\n",
    "            probabilities = torch.nn.functional.softmax(outputs, dim=1)\n",
    "            predicted_class_idx = torch.argmax(probabilities, dim=1).item()\n",
    "            confidence = probabilities[0][predicted_class_idx].item()\n",
    "            \n",
    "            # Get all probabilities as a list\n",
    "            all_probs = probabilities[0].cpu().numpy()\n",
    "            \n",
    "            # Get predicted class name\n",
    "            predicted_class_name = self.class_names[predicted_class_idx]\n",
    "            \n",
    "            # Create a list of (class_name, probability) tuples\n",
    "            class_probabilities = [(class_name, prob) \n",
    "                                 for class_name, prob in zip(self.class_names, all_probs)]\n",
    "            # Sort by probability in descending order\n",
    "            class_probabilities.sort(key=lambda x: x[1], reverse=True)\n",
    "            \n",
    "        return {\n",
    "            'predicted_class': predicted_class_name,\n",
    "            'confidence': confidence,\n",
    "            'all_predictions': class_probabilities\n",
    "        }\n",
    "    \n",
    "    def predict_batch(self, image_paths):\n",
    "        # Process multiple images at once\n",
    "        batch_tensors = []\n",
    "        for path in image_paths:\n",
    "            image = Image.open(path).convert('RGB')\n",
    "            tensor = self.transform(image)\n",
    "            batch_tensors.append(tensor)\n",
    "            \n",
    "        batch = torch.stack(batch_tensors).to(self.device)\n",
    "        \n",
    "        with torch.no_grad():\n",
    "            outputs = self.model(batch)\n",
    "            probabilities = torch.nn.functional.softmax(outputs, dim=1)\n",
    "            predicted_indices = torch.argmax(probabilities, dim=1).tolist()\n",
    "            confidences = [probabilities[i][pred].item() for i, pred in enumerate(predicted_indices)]\n",
    "            \n",
    "            # Get predicted class names\n",
    "            predicted_classes = [self.class_names[idx] for idx in predicted_indices]\n",
    "            \n",
    "        return list(zip(predicted_classes, confidences))"
   ]
  },
  {
   "cell_type": "code",
   "execution_count": 8,
   "metadata": {},
   "outputs": [
    {
     "name": "stderr",
     "output_type": "stream",
     "text": [
      "/tmp/ipykernel_1034/1451105881.py:11: FutureWarning: You are using `torch.load` with `weights_only=False` (the current default value), which uses the default pickle module implicitly. It is possible to construct malicious pickle data which will execute arbitrary code during unpickling (See https://github.com/pytorch/pytorch/blob/main/SECURITY.md#untrusted-models for more details). In a future release, the default value for `weights_only` will be flipped to `True`. This limits the functions that could be executed during unpickling. Arbitrary objects will no longer be allowed to be loaded via this mode unless they are explicitly allowlisted by the user via `torch.serialization.add_safe_globals`. We recommend you start setting `weights_only=True` for any use case where you don't have full control of the loaded file. Please open an issue on GitHub for any issues related to this experimental feature.\n",
      "  self.model.load_state_dict(torch.load(model_path))\n"
     ]
    },
    {
     "name": "stdout",
     "output_type": "stream",
     "text": [
      "Predicted class: Acaraje\n",
      "Confidence: 0.99\n",
      "\n",
      "Top 3 predictions:\n",
      "Acaraje: 0.99\n",
      "Pao_de_queijo: 0.01\n",
      "Barreado: 0.00\n",
      "Image: Predictions/Churrasco.jpg\n",
      "Predicted: Churrasco (confidence: 0.62)\n",
      "Image: Predictions/Matrinxa.jpg\n",
      "Predicted: Matrinxa (confidence: 0.62)\n",
      "Image: Predictions/Moqueca_capixaba.jpg\n",
      "Predicted: Moqueca_capixaba (confidence: 0.87)\n",
      "Image: Predictions/Tortilla.jpeg\n",
      "Predicted: Eisben (confidence: 0.63)\n"
     ]
    }
   ],
   "source": [
    "classes = [\"Acaraje\", \"Arroz_com_pequi\", \"Arroz_de_Cuxa\", \"Barreado\", \"Churrasco\", \"Eisben\", \"Feijoada\", \"Matrinxa\", \"Moqueca_capixaba\", \"Pao_de_queijo\", \"Pato_no_Tucupi\", \"Tacaca\"]\n",
    "\n",
    "predictor = ImagePredictor(\n",
    "    model_path='Brazilian.pth',\n",
    "    model_class=Classificator,\n",
    "    class_names=classes\n",
    ")\n",
    "\n",
    "# Single image prediction\n",
    "result = predictor.predict_image('Predictions/Acaraje.jpg')\n",
    "print(f\"Predicted class: {result['predicted_class']}\")\n",
    "print(f\"Confidence: {result['confidence']:.2f}\")\n",
    "\n",
    "# Print top 3 predictions\n",
    "print(\"\\nTop 3 predictions:\")\n",
    "for class_name, prob in result['all_predictions'][:3]:\n",
    "    print(f\"{class_name}: {prob:.2f}\")\n",
    "\n",
    "# Batch prediction\n",
    "image_paths = ['Predictions/Churrasco.jpg', 'Predictions/Matrinxa.jpg', 'Predictions/Moqueca_capixaba.jpg', \"Predictions/Tortilla.jpeg\"]\n",
    "predictions = predictor.predict_batch(image_paths)\n",
    "for path, (pred_class, conf) in zip(image_paths, predictions):\n",
    "    print(f\"Image: {path}\")\n",
    "    print(f\"Predicted: {pred_class} (confidence: {conf:.2f})\")"
   ]
  }
 ],
 "metadata": {
  "kernelspec": {
   "display_name": "pt",
   "language": "python",
   "name": "python3"
  },
  "language_info": {
   "codemirror_mode": {
    "name": "ipython",
    "version": 3
   },
   "file_extension": ".py",
   "mimetype": "text/x-python",
   "name": "python",
   "nbconvert_exporter": "python",
   "pygments_lexer": "ipython3",
   "version": "3.9.20"
  }
 },
 "nbformat": 4,
 "nbformat_minor": 2
}
