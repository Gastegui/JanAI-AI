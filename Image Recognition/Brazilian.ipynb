{
 "cells": [
  {
   "cell_type": "code",
   "execution_count": 1,
   "metadata": {},
   "outputs": [
    {
     "name": "stdout",
     "output_type": "stream",
     "text": [
      "Cuda available: True\n"
     ]
    }
   ],
   "source": [
    "import torch\n",
    "import torch.nn as nn\n",
    "import torch.optim as optim\n",
    "from torch.utils.data import DataLoader, Dataset\n",
    "import torchvision.transforms as transforms\n",
    "from torchvision.datasets import ImageFolder\n",
    "from tqdm import tqdm\n",
    "from PIL import Image\n",
    "import matplotlib.pyplot as plt\n",
    "import numpy as np\n",
    "import shutil as sh\n",
    "import os\n",
    "import time\n",
    "import random\n",
    "\n",
    "print(f\"Cuda available: {torch.cuda.is_available()}\")"
   ]
  },
  {
   "cell_type": "code",
   "execution_count": 2,
   "metadata": {},
   "outputs": [
    {
     "name": "stdout",
     "output_type": "stream",
     "text": [
      "Using device cuda:0\n",
      "Using 14 workers for loading the datasets\n"
     ]
    }
   ],
   "source": [
    "img_size = 224\n",
    "\n",
    "# Autoencoder stuff\n",
    "batch_size = 8\n",
    "learning_rate = 1e-3\n",
    "num_epochs = 100\n",
    "dropout = 0.3\n",
    "convolutional_kernel = 4\n",
    "max_pool_kernel = 2\n",
    "\n",
    "device = torch.device(\"cuda:0\" if torch.cuda.is_available() else \"cpu\")\n",
    "print(f\"Using device {device}\")\n",
    "\n",
    "workers = os.cpu_count() - 2\n",
    "print(f\"Using {workers} workers for loading the datasets\")"
   ]
  },
  {
   "cell_type": "code",
   "execution_count": 3,
   "metadata": {},
   "outputs": [],
   "source": [
    "def preprocess(org_path: str, train: bool):\n",
    "    arr = org_path.split(\"/\")\n",
    "    dst_start = \"/\".join(arr[:arr.index(\"Datasets\") + 1])\n",
    "    dst = \"\"\n",
    "    if train:\n",
    "        dst = dst_start + \"/Cleaned2/train/\" + \"/\".join(org_path.split(\"/\")[-2:])\n",
    "    else:\n",
    "        dst = dst_start + \"/Cleaned2/validate/\" + \"/\".join(org_path.split(\"/\")[-2:])\n",
    "\n",
    "    if not (dst.endswith(\".jpg\") or dst.endswith(\".jpeg\")):\n",
    "        dst = \".\".join(dst.split(\".\")[:-1]) + \".jpg\"\n",
    "\n",
    "    if os.path.exists(dst):\n",
    "        print(\"File already preprocessed\")\n",
    "        return\n",
    "\n",
    "    image = Image.open(org_path)\n",
    "    image = image.resize((img_size, img_size), Image.Resampling.HAMMING)\n",
    "\n",
    "    if image.mode in (\"RGBA\", \"LA\"): #If the image has transparency, get rid of it\n",
    "        background = Image.new(\"RGB\", image.size, (255, 255, 255)) #Create a white image to act as the background\n",
    "        background.paste(image, mask=image.split()[3]) #Apply this background where there is transparency on the image\n",
    "        image = background\n",
    "\n",
    "    os.makedirs(\"/\".join(dst.split(\"/\")[:-1]), exist_ok=True)\n",
    "    image.save(dst, \"JPEG\")     "
   ]
  },
  {
   "cell_type": "code",
   "execution_count": 4,
   "metadata": {},
   "outputs": [
    {
     "name": "stdout",
     "output_type": "stream",
     "text": [
      "File already preprocessed\n",
      "File already preprocessed\n",
      "File already preprocessed\n",
      "File already preprocessed\n",
      "File already preprocessed\n",
      "File already preprocessed\n",
      "File already preprocessed\n",
      "File already preprocessed\n",
      "File already preprocessed\n",
      "File already preprocessed\n",
      "File already preprocessed\n",
      "File already preprocessed\n",
      "File already preprocessed\n",
      "File already preprocessed\n",
      "File already preprocessed\n",
      "File already preprocessed\n",
      "File already preprocessed\n",
      "File already preprocessed\n",
      "File already preprocessed\n",
      "File already preprocessed\n",
      "File already preprocessed\n",
      "File already preprocessed\n",
      "File already preprocessed\n",
      "File already preprocessed\n",
      "File already preprocessed\n",
      "File already preprocessed\n",
      "File already preprocessed\n",
      "File already preprocessed\n",
      "File already preprocessed\n",
      "File already preprocessed\n",
      "File already preprocessed\n",
      "File already preprocessed\n",
      "File already preprocessed\n",
      "File already preprocessed\n",
      "File already preprocessed\n",
      "File already preprocessed\n",
      "File already preprocessed\n",
      "File already preprocessed\n",
      "File already preprocessed\n",
      "File already preprocessed\n",
      "File already preprocessed\n",
      "File already preprocessed\n",
      "File already preprocessed\n",
      "File already preprocessed\n",
      "File already preprocessed\n",
      "File already preprocessed\n",
      "File already preprocessed\n",
      "File already preprocessed\n",
      "File already preprocessed\n",
      "File already preprocessed\n",
      "File already preprocessed\n",
      "File already preprocessed\n",
      "File already preprocessed\n",
      "File already preprocessed\n",
      "File already preprocessed\n",
      "File already preprocessed\n",
      "File already preprocessed\n",
      "File already preprocessed\n",
      "File already preprocessed\n",
      "File already preprocessed\n",
      "File already preprocessed\n",
      "File already preprocessed\n",
      "File already preprocessed\n",
      "File already preprocessed\n",
      "File already preprocessed\n",
      "File already preprocessed\n",
      "File already preprocessed\n",
      "File already preprocessed\n",
      "File already preprocessed\n",
      "File already preprocessed\n",
      "File already preprocessed\n",
      "File already preprocessed\n",
      "File already preprocessed\n",
      "File already preprocessed\n",
      "File already preprocessed\n",
      "File already preprocessed\n",
      "File already preprocessed\n",
      "File already preprocessed\n",
      "File already preprocessed\n",
      "File already preprocessed\n",
      "File already preprocessed\n",
      "File already preprocessed\n",
      "File already preprocessed\n",
      "File already preprocessed\n",
      "File already preprocessed\n",
      "File already preprocessed\n",
      "File already preprocessed\n",
      "File already preprocessed\n",
      "File already preprocessed\n",
      "File already preprocessed\n",
      "File already preprocessed\n",
      "File already preprocessed\n",
      "File already preprocessed\n",
      "File already preprocessed\n",
      "File already preprocessed\n",
      "File already preprocessed\n",
      "File already preprocessed\n",
      "File already preprocessed\n",
      "File already preprocessed\n",
      "File already preprocessed\n",
      "File already preprocessed\n",
      "File already preprocessed\n",
      "File already preprocessed\n",
      "File already preprocessed\n",
      "File already preprocessed\n",
      "File already preprocessed\n",
      "File already preprocessed\n",
      "File already preprocessed\n",
      "File already preprocessed\n",
      "File already preprocessed\n",
      "File already preprocessed\n",
      "File already preprocessed\n",
      "File already preprocessed\n",
      "File already preprocessed\n",
      "File already preprocessed\n",
      "File already preprocessed\n",
      "File already preprocessed\n",
      "File already preprocessed\n",
      "File already preprocessed\n",
      "File already preprocessed\n",
      "File already preprocessed\n",
      "File already preprocessed\n",
      "File already preprocessed\n",
      "File already preprocessed\n",
      "File already preprocessed\n",
      "File already preprocessed\n",
      "File already preprocessed\n",
      "File already preprocessed\n",
      "File already preprocessed\n",
      "File already preprocessed\n",
      "File already preprocessed\n",
      "File already preprocessed\n",
      "File already preprocessed\n",
      "File already preprocessed\n",
      "File already preprocessed\n",
      "File already preprocessed\n",
      "File already preprocessed\n",
      "File already preprocessed\n",
      "File already preprocessed\n",
      "File already preprocessed\n",
      "File already preprocessed\n",
      "File already preprocessed\n",
      "File already preprocessed\n",
      "File already preprocessed\n",
      "File already preprocessed\n",
      "File already preprocessed\n",
      "File already preprocessed\n",
      "File already preprocessed\n",
      "File already preprocessed\n",
      "File already preprocessed\n",
      "File already preprocessed\n",
      "File already preprocessed\n",
      "File already preprocessed\n",
      "File already preprocessed\n",
      "File already preprocessed\n",
      "File already preprocessed\n",
      "File already preprocessed\n",
      "File already preprocessed\n",
      "File already preprocessed\n",
      "File already preprocessed\n",
      "File already preprocessed\n",
      "File already preprocessed\n",
      "File already preprocessed\n",
      "File already preprocessed\n",
      "File already preprocessed\n",
      "File already preprocessed\n",
      "File already preprocessed\n",
      "File already preprocessed\n",
      "File already preprocessed\n",
      "File already preprocessed\n",
      "File already preprocessed\n",
      "File already preprocessed\n",
      "File already preprocessed\n",
      "File already preprocessed\n",
      "File already preprocessed\n",
      "File already preprocessed\n",
      "File already preprocessed\n",
      "File already preprocessed\n",
      "File already preprocessed\n",
      "File already preprocessed\n",
      "File already preprocessed\n",
      "File already preprocessed\n",
      "File already preprocessed\n",
      "File already preprocessed\n",
      "File already preprocessed\n",
      "File already preprocessed\n",
      "File already preprocessed\n",
      "File already preprocessed\n",
      "File already preprocessed\n",
      "File already preprocessed\n",
      "File already preprocessed\n",
      "File already preprocessed\n",
      "File already preprocessed\n",
      "File already preprocessed\n",
      "File already preprocessed\n",
      "File already preprocessed\n",
      "File already preprocessed\n",
      "File already preprocessed\n",
      "File already preprocessed\n",
      "File already preprocessed\n",
      "File already preprocessed\n",
      "File already preprocessed\n",
      "File already preprocessed\n",
      "File already preprocessed\n",
      "File already preprocessed\n",
      "File already preprocessed\n",
      "File already preprocessed\n",
      "File already preprocessed\n",
      "File already preprocessed\n",
      "File already preprocessed\n",
      "File already preprocessed\n",
      "File already preprocessed\n",
      "File already preprocessed\n",
      "File already preprocessed\n",
      "File already preprocessed\n",
      "File already preprocessed\n",
      "File already preprocessed\n",
      "File already preprocessed\n",
      "File already preprocessed\n",
      "File already preprocessed\n",
      "File already preprocessed\n",
      "File already preprocessed\n",
      "File already preprocessed\n",
      "File already preprocessed\n",
      "File already preprocessed\n",
      "File already preprocessed\n",
      "File already preprocessed\n",
      "File already preprocessed\n",
      "File already preprocessed\n",
      "File already preprocessed\n",
      "File already preprocessed\n",
      "File already preprocessed\n",
      "File already preprocessed\n",
      "File already preprocessed\n",
      "File already preprocessed\n",
      "File already preprocessed\n",
      "File already preprocessed\n",
      "File already preprocessed\n",
      "File already preprocessed\n",
      "File already preprocessed\n",
      "File already preprocessed\n",
      "File already preprocessed\n",
      "File already preprocessed\n",
      "File already preprocessed\n",
      "File already preprocessed\n",
      "File already preprocessed\n",
      "File already preprocessed\n",
      "File already preprocessed\n",
      "File already preprocessed\n",
      "File already preprocessed\n",
      "File already preprocessed\n",
      "File already preprocessed\n",
      "File already preprocessed\n",
      "File already preprocessed\n",
      "File already preprocessed\n",
      "File already preprocessed\n",
      "File already preprocessed\n",
      "File already preprocessed\n",
      "File already preprocessed\n",
      "File already preprocessed\n",
      "File already preprocessed\n",
      "File already preprocessed\n",
      "File already preprocessed\n",
      "File already preprocessed\n",
      "File already preprocessed\n",
      "File already preprocessed\n",
      "File already preprocessed\n",
      "File already preprocessed\n",
      "File already preprocessed\n",
      "File already preprocessed\n",
      "File already preprocessed\n",
      "File already preprocessed\n",
      "File already preprocessed\n",
      "File already preprocessed\n",
      "File already preprocessed\n",
      "File already preprocessed\n",
      "File already preprocessed\n",
      "File already preprocessed\n",
      "File already preprocessed\n",
      "File already preprocessed\n",
      "File already preprocessed\n",
      "File already preprocessed\n",
      "File already preprocessed\n",
      "File already preprocessed\n",
      "File already preprocessed\n",
      "File already preprocessed\n",
      "File already preprocessed\n",
      "File already preprocessed\n",
      "File already preprocessed\n",
      "File already preprocessed\n",
      "File already preprocessed\n",
      "File already preprocessed\n",
      "File already preprocessed\n",
      "File already preprocessed\n"
     ]
    }
   ],
   "source": [
    "try:\n",
    "    for dirPath, _, files in os.walk(\"./Datasets/Tipical_Brazilian_Foods/train/\"):\n",
    "        if files:\n",
    "            for file in files:\n",
    "                preprocess(dirPath+\"/\"+file, True)\n",
    "\n",
    "    for dirPath, _, files in os.walk(\"./Datasets/Tipical_Brazilian_Foods/valid/\"):\n",
    "        if files:\n",
    "            for file in files:\n",
    "                preprocess(dirPath+\"/\"+file, False)\n",
    "except FileNotFoundError:\n",
    "    print(\"Couldn't find and image. Problably the dataset doesn't exist or its path is wrong\")"
   ]
  },
  {
   "cell_type": "code",
   "execution_count": 5,
   "metadata": {},
   "outputs": [],
   "source": [
    "transform_train = transforms.Compose([\n",
    "    transforms.RandomHorizontalFlip(),  # Volteo horizontal aleatorio\n",
    "    transforms.RandomRotation(30),      # Rotaciones aleatorias de hasta 30 grados\n",
    "    transforms.ColorJitter(brightness=0.2, contrast=0.2, saturation=0.2, hue=0.2),  # Cambios en color\n",
    "    transforms.ToTensor()\n",
    "])\n",
    "\n",
    "transform_validation = transforms.Compose([\n",
    "    transforms.ToTensor()\n",
    "])\n",
    "\n",
    "train_dataset = ImageFolder('./Datasets/Cleaned2/train', transform=transform_train)\n",
    "validation_dataset = ImageFolder('./Datasets/Cleaned2/validate', transform=transform_validation)\n",
    "\n",
    "classes = [\"Acaraje\", \"Arroz_com_pequi\", \"Arroz_de_Cuxa\", \"Barreado\", \"Churrasco\", \"Eisben\", \"Feijoada\", \"Matrinxa\", \"Moqueca_capixaba\", \"Pao_de_queijo\", \"Pato_no_Tucupi\", \"Tacaca\"]\n",
    "\n",
    "train_loader = DataLoader(train_dataset, batch_size=batch_size, shuffle=True, num_workers=workers)\n",
    "validation_loader = DataLoader(validation_dataset, batch_size=batch_size, shuffle=False, num_workers=workers)\n",
    "dataloaders = {\"train\": train_loader, \"validate\": validation_loader}"
   ]
  },
  {
   "cell_type": "code",
   "execution_count": 6,
   "metadata": {},
   "outputs": [],
   "source": [
    "class Classificator(nn.Module):\n",
    "    def __init__(self):\n",
    "        super(Classificator, self).__init__()\n",
    "\n",
    "        self.layers = nn.Sequential(\n",
    "            nn.Conv2d(3, 64, kernel_size=convolutional_kernel, stride=2, padding=1),\n",
    "            # nn.MaxPool2d(max_pool_kernel),\n",
    "            nn.ReLU(),\n",
    "\n",
    "            nn.Conv2d(64, 128, kernel_size=convolutional_kernel, stride=2, padding=1),\n",
    "            # nn.MaxPool2d(max_pool_kernel),\n",
    "            nn.ReLU(),\n",
    "\n",
    "            nn.Conv2d(128, 256, kernel_size=convolutional_kernel, stride=2, padding=1),\n",
    "            # nn.MaxPool2d(max_pool_kernel),\n",
    "            nn.ReLU(),\n",
    "            \n",
    "            nn.Conv2d(256, 512, kernel_size=convolutional_kernel, stride=2, padding=1),\n",
    "            # nn.MaxPool2d(max_pool_kernel),\n",
    "            nn.ReLU(),\n",
    "\n",
    "            nn.Flatten(),\n",
    "\n",
    "            nn.Linear(512 * 14 * 14, 512),\n",
    "            nn.Dropout(dropout),\n",
    "            nn.Linear(512, len(classes))\n",
    "        )\n",
    "\n",
    "    def forward(self, x):\n",
    "        return self.layers(x)"
   ]
  },
  {
   "cell_type": "code",
   "execution_count": 7,
   "metadata": {},
   "outputs": [
    {
     "name": "stdout",
     "output_type": "stream",
     "text": [
      "Epoch 0/99\n",
      "----------\n"
     ]
    },
    {
     "name": "stderr",
     "output_type": "stream",
     "text": [
      "train phase: 100%|██████████| 30/30 [00:02<00:00, 11.72it/s, Loss=780, Accuracy=0.00%]\n"
     ]
    },
    {
     "name": "stdout",
     "output_type": "stream",
     "text": [
      "train Loss: 3.2637 Acc: 0.1506\n"
     ]
    },
    {
     "name": "stderr",
     "output_type": "stream",
     "text": [
      "validate phase: 100%|██████████| 7/7 [00:00<00:00, 17.88it/s, Loss=130, Accuracy=0.43%] \n"
     ]
    },
    {
     "name": "stdout",
     "output_type": "stream",
     "text": [
      "validate Loss: 2.3586 Acc: 0.2000\n",
      "\n",
      "Epoch finished at 0m 3s\n",
      "Epoch 1/99\n",
      "----------\n"
     ]
    },
    {
     "name": "stderr",
     "output_type": "stream",
     "text": [
      "train phase: 100%|██████████| 30/30 [00:02<00:00, 14.65it/s, Loss=572, Accuracy=0.29%]\n"
     ]
    },
    {
     "name": "stdout",
     "output_type": "stream",
     "text": [
      "train Loss: 2.3943 Acc: 0.1883\n"
     ]
    },
    {
     "name": "stderr",
     "output_type": "stream",
     "text": [
      "validate phase: 100%|██████████| 7/7 [00:00<00:00, 19.03it/s, Loss=131, Accuracy=0.43%] \n"
     ]
    },
    {
     "name": "stdout",
     "output_type": "stream",
     "text": [
      "validate Loss: 2.3806 Acc: 0.2000\n",
      "\n",
      "Epoch finished at 0m 5s\n",
      "Epoch 2/99\n",
      "----------\n"
     ]
    },
    {
     "name": "stderr",
     "output_type": "stream",
     "text": [
      "train phase: 100%|██████████| 30/30 [00:02<00:00, 14.59it/s, Loss=563, Accuracy=0.29%]\n"
     ]
    },
    {
     "name": "stdout",
     "output_type": "stream",
     "text": [
      "train Loss: 2.3550 Acc: 0.1841\n"
     ]
    },
    {
     "name": "stderr",
     "output_type": "stream",
     "text": [
      "validate phase: 100%|██████████| 7/7 [00:00<00:00, 18.00it/s, Loss=129, Accuracy=0.00%] \n"
     ]
    },
    {
     "name": "stdout",
     "output_type": "stream",
     "text": [
      "validate Loss: 2.3379 Acc: 0.1636\n",
      "\n",
      "Epoch finished at 0m 8s\n",
      "Epoch 3/99\n",
      "----------\n"
     ]
    },
    {
     "name": "stderr",
     "output_type": "stream",
     "text": [
      "train phase: 100%|██████████| 30/30 [00:02<00:00, 14.35it/s, Loss=568, Accuracy=0.00%]\n"
     ]
    },
    {
     "name": "stdout",
     "output_type": "stream",
     "text": [
      "train Loss: 2.3759 Acc: 0.1715\n"
     ]
    },
    {
     "name": "stderr",
     "output_type": "stream",
     "text": [
      "validate phase: 100%|██████████| 7/7 [00:00<00:00, 17.07it/s, Loss=130, Accuracy=0.43%] \n"
     ]
    },
    {
     "name": "stdout",
     "output_type": "stream",
     "text": [
      "validate Loss: 2.3662 Acc: 0.2000\n",
      "\n",
      "Epoch finished at 0m 10s\n",
      "Epoch 4/99\n",
      "----------\n"
     ]
    },
    {
     "name": "stderr",
     "output_type": "stream",
     "text": [
      "train phase: 100%|██████████| 30/30 [00:02<00:00, 11.57it/s, Loss=563, Accuracy=0.14%]\n"
     ]
    },
    {
     "name": "stdout",
     "output_type": "stream",
     "text": [
      "train Loss: 2.3576 Acc: 0.1967\n"
     ]
    },
    {
     "name": "stderr",
     "output_type": "stream",
     "text": [
      "validate phase: 100%|██████████| 7/7 [00:00<00:00, 17.45it/s, Loss=128, Accuracy=0.43%] \n"
     ]
    },
    {
     "name": "stdout",
     "output_type": "stream",
     "text": [
      "validate Loss: 2.3327 Acc: 0.1818\n",
      "\n",
      "Epoch finished at 0m 13s\n",
      "Epoch 5/99\n",
      "----------\n"
     ]
    },
    {
     "name": "stderr",
     "output_type": "stream",
     "text": [
      "train phase: 100%|██████████| 30/30 [00:01<00:00, 15.64it/s, Loss=546, Accuracy=0.14%]\n"
     ]
    },
    {
     "name": "stdout",
     "output_type": "stream",
     "text": [
      "train Loss: 2.2844 Acc: 0.2720\n"
     ]
    },
    {
     "name": "stderr",
     "output_type": "stream",
     "text": [
      "validate phase: 100%|██████████| 7/7 [00:00<00:00, 18.27it/s, Loss=125, Accuracy=0.43%] \n"
     ]
    },
    {
     "name": "stdout",
     "output_type": "stream",
     "text": [
      "validate Loss: 2.2753 Acc: 0.2545\n",
      "\n",
      "Epoch finished at 0m 16s\n",
      "Epoch 6/99\n",
      "----------\n"
     ]
    },
    {
     "name": "stderr",
     "output_type": "stream",
     "text": [
      "train phase: 100%|██████████| 30/30 [00:01<00:00, 15.34it/s, Loss=523, Accuracy=0.14%]\n"
     ]
    },
    {
     "name": "stdout",
     "output_type": "stream",
     "text": [
      "train Loss: 2.1903 Acc: 0.2762\n"
     ]
    },
    {
     "name": "stderr",
     "output_type": "stream",
     "text": [
      "validate phase: 100%|██████████| 7/7 [00:00<00:00, 18.24it/s, Loss=116, Accuracy=0.43%] \n"
     ]
    },
    {
     "name": "stdout",
     "output_type": "stream",
     "text": [
      "validate Loss: 2.1108 Acc: 0.2909\n",
      "\n",
      "Epoch finished at 0m 18s\n",
      "Epoch 7/99\n",
      "----------\n"
     ]
    },
    {
     "name": "stderr",
     "output_type": "stream",
     "text": [
      "train phase: 100%|██████████| 30/30 [00:01<00:00, 15.75it/s, Loss=479, Accuracy=0.86%]\n"
     ]
    },
    {
     "name": "stdout",
     "output_type": "stream",
     "text": [
      "train Loss: 2.0026 Acc: 0.3431\n"
     ]
    },
    {
     "name": "stderr",
     "output_type": "stream",
     "text": [
      "validate phase: 100%|██████████| 7/7 [00:00<00:00, 19.25it/s, Loss=115, Accuracy=0.43%] \n"
     ]
    },
    {
     "name": "stdout",
     "output_type": "stream",
     "text": [
      "validate Loss: 2.0865 Acc: 0.2545\n",
      "\n",
      "Epoch finished at 0m 20s\n",
      "Epoch 8/99\n",
      "----------\n"
     ]
    },
    {
     "name": "stderr",
     "output_type": "stream",
     "text": [
      "train phase: 100%|██████████| 30/30 [00:01<00:00, 15.92it/s, Loss=470, Accuracy=0.29%]\n"
     ]
    },
    {
     "name": "stdout",
     "output_type": "stream",
     "text": [
      "train Loss: 1.9684 Acc: 0.3180\n"
     ]
    },
    {
     "name": "stderr",
     "output_type": "stream",
     "text": [
      "validate phase: 100%|██████████| 7/7 [00:00<00:00, 19.41it/s, Loss=115, Accuracy=0.43%] \n"
     ]
    },
    {
     "name": "stdout",
     "output_type": "stream",
     "text": [
      "validate Loss: 2.0820 Acc: 0.3091\n",
      "\n",
      "Epoch finished at 0m 23s\n",
      "Epoch 9/99\n",
      "----------\n"
     ]
    },
    {
     "name": "stderr",
     "output_type": "stream",
     "text": [
      "train phase: 100%|██████████| 30/30 [00:01<00:00, 15.76it/s, Loss=466, Accuracy=0.43%]\n"
     ]
    },
    {
     "name": "stdout",
     "output_type": "stream",
     "text": [
      "train Loss: 1.9506 Acc: 0.3180\n"
     ]
    },
    {
     "name": "stderr",
     "output_type": "stream",
     "text": [
      "validate phase: 100%|██████████| 7/7 [00:00<00:00, 17.72it/s, Loss=112, Accuracy=0.43%] \n"
     ]
    },
    {
     "name": "stdout",
     "output_type": "stream",
     "text": [
      "validate Loss: 2.0426 Acc: 0.3273\n",
      "\n",
      "Epoch finished at 0m 25s\n",
      "Epoch 10/99\n",
      "----------\n"
     ]
    },
    {
     "name": "stderr",
     "output_type": "stream",
     "text": [
      "train phase: 100%|██████████| 30/30 [00:01<00:00, 15.57it/s, Loss=460, Accuracy=0.00%]\n"
     ]
    },
    {
     "name": "stdout",
     "output_type": "stream",
     "text": [
      "train Loss: 1.9236 Acc: 0.3389\n"
     ]
    },
    {
     "name": "stderr",
     "output_type": "stream",
     "text": [
      "validate phase: 100%|██████████| 7/7 [00:00<00:00, 16.08it/s, Loss=110, Accuracy=0.43%] \n"
     ]
    },
    {
     "name": "stdout",
     "output_type": "stream",
     "text": [
      "validate Loss: 2.0061 Acc: 0.3091\n",
      "\n",
      "Epoch finished at 0m 27s\n",
      "Epoch 11/99\n",
      "----------\n"
     ]
    },
    {
     "name": "stderr",
     "output_type": "stream",
     "text": [
      "train phase: 100%|██████████| 30/30 [00:01<00:00, 15.23it/s, Loss=459, Accuracy=0.43%]\n"
     ]
    },
    {
     "name": "stdout",
     "output_type": "stream",
     "text": [
      "train Loss: 1.9187 Acc: 0.3222\n"
     ]
    },
    {
     "name": "stderr",
     "output_type": "stream",
     "text": [
      "validate phase: 100%|██████████| 7/7 [00:00<00:00, 17.51it/s, Loss=109, Accuracy=0.57%] \n"
     ]
    },
    {
     "name": "stdout",
     "output_type": "stream",
     "text": [
      "validate Loss: 1.9875 Acc: 0.3455\n",
      "\n",
      "Epoch finished at 0m 30s\n",
      "Epoch 12/99\n",
      "----------\n"
     ]
    },
    {
     "name": "stderr",
     "output_type": "stream",
     "text": [
      "train phase: 100%|██████████| 30/30 [00:01<00:00, 15.78it/s, Loss=456, Accuracy=0.71%]\n"
     ]
    },
    {
     "name": "stdout",
     "output_type": "stream",
     "text": [
      "train Loss: 1.9087 Acc: 0.3347\n"
     ]
    },
    {
     "name": "stderr",
     "output_type": "stream",
     "text": [
      "validate phase: 100%|██████████| 7/7 [00:00<00:00, 18.78it/s, Loss=109, Accuracy=0.57%] \n"
     ]
    },
    {
     "name": "stdout",
     "output_type": "stream",
     "text": [
      "validate Loss: 1.9900 Acc: 0.3273\n",
      "\n",
      "Epoch finished at 0m 32s\n",
      "Epoch 13/99\n",
      "----------\n"
     ]
    },
    {
     "name": "stderr",
     "output_type": "stream",
     "text": [
      "train phase: 100%|██████████| 30/30 [00:01<00:00, 15.54it/s, Loss=466, Accuracy=0.57%]\n"
     ]
    },
    {
     "name": "stdout",
     "output_type": "stream",
     "text": [
      "train Loss: 1.9515 Acc: 0.3264\n"
     ]
    },
    {
     "name": "stderr",
     "output_type": "stream",
     "text": [
      "validate phase: 100%|██████████| 7/7 [00:00<00:00, 19.24it/s, Loss=111, Accuracy=0.57%] \n"
     ]
    },
    {
     "name": "stdout",
     "output_type": "stream",
     "text": [
      "validate Loss: 2.0104 Acc: 0.3273\n",
      "\n",
      "Epoch finished at 0m 34s\n",
      "Epoch 14/99\n",
      "----------\n"
     ]
    },
    {
     "name": "stderr",
     "output_type": "stream",
     "text": [
      "train phase: 100%|██████████| 30/30 [00:01<00:00, 15.98it/s, Loss=450, Accuracy=0.43%]\n"
     ]
    },
    {
     "name": "stdout",
     "output_type": "stream",
     "text": [
      "train Loss: 1.8824 Acc: 0.3473\n"
     ]
    },
    {
     "name": "stderr",
     "output_type": "stream",
     "text": [
      "validate phase: 100%|██████████| 7/7 [00:00<00:00, 19.72it/s, Loss=110, Accuracy=0.57%] \n"
     ]
    },
    {
     "name": "stdout",
     "output_type": "stream",
     "text": [
      "validate Loss: 2.0044 Acc: 0.3455\n",
      "\n",
      "Epoch finished at 0m 36s\n",
      "Epoch 15/99\n",
      "----------\n"
     ]
    },
    {
     "name": "stderr",
     "output_type": "stream",
     "text": [
      "train phase: 100%|██████████| 30/30 [00:01<00:00, 15.77it/s, Loss=453, Accuracy=0.43%]\n"
     ]
    },
    {
     "name": "stdout",
     "output_type": "stream",
     "text": [
      "train Loss: 1.8934 Acc: 0.3054\n"
     ]
    },
    {
     "name": "stderr",
     "output_type": "stream",
     "text": [
      "validate phase: 100%|██████████| 7/7 [00:00<00:00, 18.85it/s, Loss=110, Accuracy=0.57%] \n"
     ]
    },
    {
     "name": "stdout",
     "output_type": "stream",
     "text": [
      "validate Loss: 1.9986 Acc: 0.3455\n",
      "\n",
      "Epoch finished at 0m 39s\n",
      "Epoch 16/99\n",
      "----------\n"
     ]
    },
    {
     "name": "stderr",
     "output_type": "stream",
     "text": [
      "train phase: 100%|██████████| 30/30 [00:01<00:00, 15.74it/s, Loss=443, Accuracy=0.29%]\n"
     ]
    },
    {
     "name": "stdout",
     "output_type": "stream",
     "text": [
      "train Loss: 1.8523 Acc: 0.3682\n"
     ]
    },
    {
     "name": "stderr",
     "output_type": "stream",
     "text": [
      "validate phase: 100%|██████████| 7/7 [00:00<00:00, 18.00it/s, Loss=110, Accuracy=0.71%] \n"
     ]
    },
    {
     "name": "stdout",
     "output_type": "stream",
     "text": [
      "validate Loss: 1.9937 Acc: 0.3818\n",
      "\n",
      "Epoch finished at 0m 41s\n",
      "Epoch 17/99\n",
      "----------\n"
     ]
    },
    {
     "name": "stderr",
     "output_type": "stream",
     "text": [
      "train phase: 100%|██████████| 30/30 [00:01<00:00, 15.77it/s, Loss=443, Accuracy=0.43%]\n"
     ]
    },
    {
     "name": "stdout",
     "output_type": "stream",
     "text": [
      "train Loss: 1.8533 Acc: 0.3389\n"
     ]
    },
    {
     "name": "stderr",
     "output_type": "stream",
     "text": [
      "validate phase: 100%|██████████| 7/7 [00:00<00:00, 18.84it/s, Loss=110, Accuracy=0.71%] \n"
     ]
    },
    {
     "name": "stdout",
     "output_type": "stream",
     "text": [
      "validate Loss: 1.9916 Acc: 0.3818\n",
      "\n",
      "Epoch finished at 0m 43s\n",
      "Epoch 18/99\n",
      "----------\n"
     ]
    },
    {
     "name": "stderr",
     "output_type": "stream",
     "text": [
      "train phase: 100%|██████████| 30/30 [00:01<00:00, 15.80it/s, Loss=443, Accuracy=0.57%]\n"
     ]
    },
    {
     "name": "stdout",
     "output_type": "stream",
     "text": [
      "train Loss: 1.8556 Acc: 0.3598\n"
     ]
    },
    {
     "name": "stderr",
     "output_type": "stream",
     "text": [
      "validate phase: 100%|██████████| 7/7 [00:00<00:00, 18.97it/s, Loss=110, Accuracy=0.71%] \n"
     ]
    },
    {
     "name": "stdout",
     "output_type": "stream",
     "text": [
      "validate Loss: 1.9946 Acc: 0.3636\n",
      "\n",
      "Epoch finished at 0m 46s\n",
      "Epoch 19/99\n",
      "----------\n"
     ]
    },
    {
     "name": "stderr",
     "output_type": "stream",
     "text": [
      "train phase: 100%|██████████| 30/30 [00:01<00:00, 15.71it/s, Loss=440, Accuracy=0.57%]\n"
     ]
    },
    {
     "name": "stdout",
     "output_type": "stream",
     "text": [
      "train Loss: 1.8403 Acc: 0.3598\n"
     ]
    },
    {
     "name": "stderr",
     "output_type": "stream",
     "text": [
      "validate phase: 100%|██████████| 7/7 [00:00<00:00, 18.60it/s, Loss=110, Accuracy=0.71%] \n"
     ]
    },
    {
     "name": "stdout",
     "output_type": "stream",
     "text": [
      "validate Loss: 1.9939 Acc: 0.3818\n",
      "\n",
      "Epoch finished at 0m 48s\n",
      "Epoch 20/99\n",
      "----------\n"
     ]
    },
    {
     "name": "stderr",
     "output_type": "stream",
     "text": [
      "train phase: 100%|██████████| 30/30 [00:01<00:00, 15.70it/s, Loss=450, Accuracy=0.29%]\n"
     ]
    },
    {
     "name": "stdout",
     "output_type": "stream",
     "text": [
      "train Loss: 1.8833 Acc: 0.3640\n"
     ]
    },
    {
     "name": "stderr",
     "output_type": "stream",
     "text": [
      "validate phase: 100%|██████████| 7/7 [00:00<00:00, 19.91it/s, Loss=110, Accuracy=0.71%] \n"
     ]
    },
    {
     "name": "stdout",
     "output_type": "stream",
     "text": [
      "validate Loss: 1.9917 Acc: 0.3636\n",
      "\n",
      "Epoch finished at 0m 50s\n",
      "Epoch 21/99\n",
      "----------\n"
     ]
    },
    {
     "name": "stderr",
     "output_type": "stream",
     "text": [
      "train phase: 100%|██████████| 30/30 [00:01<00:00, 15.75it/s, Loss=445, Accuracy=0.43%]\n"
     ]
    },
    {
     "name": "stdout",
     "output_type": "stream",
     "text": [
      "train Loss: 1.8615 Acc: 0.3431\n"
     ]
    },
    {
     "name": "stderr",
     "output_type": "stream",
     "text": [
      "validate phase: 100%|██████████| 7/7 [00:00<00:00, 17.74it/s, Loss=110, Accuracy=0.71%] \n"
     ]
    },
    {
     "name": "stdout",
     "output_type": "stream",
     "text": [
      "validate Loss: 1.9921 Acc: 0.3636\n",
      "\n",
      "Epoch finished at 0m 52s\n",
      "Epoch 22/99\n",
      "----------\n"
     ]
    },
    {
     "name": "stderr",
     "output_type": "stream",
     "text": [
      "train phase: 100%|██████████| 30/30 [00:01<00:00, 15.95it/s, Loss=444, Accuracy=0.43%]\n"
     ]
    },
    {
     "name": "stdout",
     "output_type": "stream",
     "text": [
      "train Loss: 1.8563 Acc: 0.3598\n"
     ]
    },
    {
     "name": "stderr",
     "output_type": "stream",
     "text": [
      "validate phase: 100%|██████████| 7/7 [00:00<00:00, 18.12it/s, Loss=110, Accuracy=0.71%] \n"
     ]
    },
    {
     "name": "stdout",
     "output_type": "stream",
     "text": [
      "validate Loss: 1.9923 Acc: 0.3636\n",
      "\n",
      "Epoch finished at 0m 55s\n",
      "Epoch 23/99\n",
      "----------\n"
     ]
    },
    {
     "name": "stderr",
     "output_type": "stream",
     "text": [
      "train phase: 100%|██████████| 30/30 [00:01<00:00, 15.61it/s, Loss=445, Accuracy=0.29%]\n"
     ]
    },
    {
     "name": "stdout",
     "output_type": "stream",
     "text": [
      "train Loss: 1.8622 Acc: 0.3347\n"
     ]
    },
    {
     "name": "stderr",
     "output_type": "stream",
     "text": [
      "validate phase: 100%|██████████| 7/7 [00:00<00:00, 19.35it/s, Loss=110, Accuracy=0.71%] \n"
     ]
    },
    {
     "name": "stdout",
     "output_type": "stream",
     "text": [
      "validate Loss: 1.9927 Acc: 0.3636\n",
      "\n",
      "Epoch finished at 0m 57s\n",
      "Epoch 24/99\n",
      "----------\n"
     ]
    },
    {
     "name": "stderr",
     "output_type": "stream",
     "text": [
      "train phase: 100%|██████████| 30/30 [00:01<00:00, 15.80it/s, Loss=445, Accuracy=0.43%]\n"
     ]
    },
    {
     "name": "stdout",
     "output_type": "stream",
     "text": [
      "train Loss: 1.8621 Acc: 0.3389\n"
     ]
    },
    {
     "name": "stderr",
     "output_type": "stream",
     "text": [
      "validate phase: 100%|██████████| 7/7 [00:00<00:00, 19.34it/s, Loss=110, Accuracy=0.71%] \n"
     ]
    },
    {
     "name": "stdout",
     "output_type": "stream",
     "text": [
      "validate Loss: 1.9925 Acc: 0.3636\n",
      "\n",
      "Epoch finished at 0m 59s\n",
      "Epoch 25/99\n",
      "----------\n"
     ]
    },
    {
     "name": "stderr",
     "output_type": "stream",
     "text": [
      "train phase: 100%|██████████| 30/30 [00:01<00:00, 15.81it/s, Loss=436, Accuracy=0.29%]\n"
     ]
    },
    {
     "name": "stdout",
     "output_type": "stream",
     "text": [
      "train Loss: 1.8252 Acc: 0.3640\n"
     ]
    },
    {
     "name": "stderr",
     "output_type": "stream",
     "text": [
      "validate phase: 100%|██████████| 7/7 [00:00<00:00, 19.48it/s, Loss=110, Accuracy=0.71%] \n"
     ]
    },
    {
     "name": "stdout",
     "output_type": "stream",
     "text": [
      "validate Loss: 1.9930 Acc: 0.3636\n",
      "\n",
      "Epoch finished at 1m 2s\n",
      "Epoch 26/99\n",
      "----------\n"
     ]
    },
    {
     "name": "stderr",
     "output_type": "stream",
     "text": [
      "train phase: 100%|██████████| 30/30 [00:01<00:00, 15.91it/s, Loss=443, Accuracy=0.43%]\n"
     ]
    },
    {
     "name": "stdout",
     "output_type": "stream",
     "text": [
      "train Loss: 1.8521 Acc: 0.3808\n"
     ]
    },
    {
     "name": "stderr",
     "output_type": "stream",
     "text": [
      "validate phase: 100%|██████████| 7/7 [00:00<00:00, 18.50it/s, Loss=110, Accuracy=0.71%] \n"
     ]
    },
    {
     "name": "stdout",
     "output_type": "stream",
     "text": [
      "validate Loss: 1.9929 Acc: 0.3636\n",
      "\n",
      "Epoch finished at 1m 4s\n",
      "Epoch 27/99\n",
      "----------\n"
     ]
    },
    {
     "name": "stderr",
     "output_type": "stream",
     "text": [
      "train phase: 100%|██████████| 30/30 [00:01<00:00, 15.64it/s, Loss=443, Accuracy=0.14%]\n"
     ]
    },
    {
     "name": "stdout",
     "output_type": "stream",
     "text": [
      "train Loss: 1.8528 Acc: 0.3808\n"
     ]
    },
    {
     "name": "stderr",
     "output_type": "stream",
     "text": [
      "validate phase: 100%|██████████| 7/7 [00:00<00:00, 18.06it/s, Loss=110, Accuracy=0.71%] \n"
     ]
    },
    {
     "name": "stdout",
     "output_type": "stream",
     "text": [
      "validate Loss: 1.9931 Acc: 0.3636\n",
      "\n",
      "Epoch finished at 1m 6s\n",
      "Epoch 28/99\n",
      "----------\n"
     ]
    },
    {
     "name": "stderr",
     "output_type": "stream",
     "text": [
      "train phase: 100%|██████████| 30/30 [00:01<00:00, 15.84it/s, Loss=437, Accuracy=0.43%]\n"
     ]
    },
    {
     "name": "stdout",
     "output_type": "stream",
     "text": [
      "train Loss: 1.8279 Acc: 0.3264\n"
     ]
    },
    {
     "name": "stderr",
     "output_type": "stream",
     "text": [
      "validate phase: 100%|██████████| 7/7 [00:00<00:00, 20.26it/s, Loss=110, Accuracy=0.71%] \n"
     ]
    },
    {
     "name": "stdout",
     "output_type": "stream",
     "text": [
      "validate Loss: 1.9931 Acc: 0.3636\n",
      "\n",
      "Epoch finished at 1m 8s\n",
      "Epoch 29/99\n",
      "----------\n"
     ]
    },
    {
     "name": "stderr",
     "output_type": "stream",
     "text": [
      "train phase: 100%|██████████| 30/30 [00:01<00:00, 15.91it/s, Loss=452, Accuracy=0.29%]\n"
     ]
    },
    {
     "name": "stdout",
     "output_type": "stream",
     "text": [
      "train Loss: 1.8927 Acc: 0.3431\n"
     ]
    },
    {
     "name": "stderr",
     "output_type": "stream",
     "text": [
      "validate phase: 100%|██████████| 7/7 [00:00<00:00, 19.23it/s, Loss=110, Accuracy=0.71%] \n"
     ]
    },
    {
     "name": "stdout",
     "output_type": "stream",
     "text": [
      "validate Loss: 1.9931 Acc: 0.3636\n",
      "\n",
      "Epoch finished at 1m 11s\n",
      "Epoch 30/99\n",
      "----------\n"
     ]
    },
    {
     "name": "stderr",
     "output_type": "stream",
     "text": [
      "train phase: 100%|██████████| 30/30 [00:01<00:00, 15.84it/s, Loss=446, Accuracy=0.57%]\n"
     ]
    },
    {
     "name": "stdout",
     "output_type": "stream",
     "text": [
      "train Loss: 1.8673 Acc: 0.3389\n"
     ]
    },
    {
     "name": "stderr",
     "output_type": "stream",
     "text": [
      "validate phase: 100%|██████████| 7/7 [00:00<00:00, 18.15it/s, Loss=110, Accuracy=0.71%] \n"
     ]
    },
    {
     "name": "stdout",
     "output_type": "stream",
     "text": [
      "validate Loss: 1.9931 Acc: 0.3636\n",
      "\n",
      "Epoch finished at 1m 13s\n",
      "Epoch 31/99\n",
      "----------\n"
     ]
    },
    {
     "name": "stderr",
     "output_type": "stream",
     "text": [
      "train phase: 100%|██████████| 30/30 [00:01<00:00, 15.53it/s, Loss=444, Accuracy=0.29%]\n"
     ]
    },
    {
     "name": "stdout",
     "output_type": "stream",
     "text": [
      "train Loss: 1.8583 Acc: 0.3389\n"
     ]
    },
    {
     "name": "stderr",
     "output_type": "stream",
     "text": [
      "validate phase: 100%|██████████| 7/7 [00:00<00:00, 19.87it/s, Loss=110, Accuracy=0.71%] \n"
     ]
    },
    {
     "name": "stdout",
     "output_type": "stream",
     "text": [
      "validate Loss: 1.9931 Acc: 0.3636\n",
      "\n",
      "Epoch finished at 1m 15s\n",
      "Epoch 32/99\n",
      "----------\n"
     ]
    },
    {
     "name": "stderr",
     "output_type": "stream",
     "text": [
      "train phase: 100%|██████████| 30/30 [00:01<00:00, 16.02it/s, Loss=452, Accuracy=0.29%]\n"
     ]
    },
    {
     "name": "stdout",
     "output_type": "stream",
     "text": [
      "train Loss: 1.8912 Acc: 0.3556\n"
     ]
    },
    {
     "name": "stderr",
     "output_type": "stream",
     "text": [
      "validate phase: 100%|██████████| 7/7 [00:00<00:00, 18.40it/s, Loss=110, Accuracy=0.71%] \n"
     ]
    },
    {
     "name": "stdout",
     "output_type": "stream",
     "text": [
      "validate Loss: 1.9931 Acc: 0.3636\n",
      "\n",
      "Epoch finished at 1m 17s\n",
      "Epoch 33/99\n",
      "----------\n"
     ]
    },
    {
     "name": "stderr",
     "output_type": "stream",
     "text": [
      "train phase: 100%|██████████| 30/30 [00:01<00:00, 15.55it/s, Loss=442, Accuracy=0.14%]\n"
     ]
    },
    {
     "name": "stdout",
     "output_type": "stream",
     "text": [
      "train Loss: 1.8490 Acc: 0.3640\n"
     ]
    },
    {
     "name": "stderr",
     "output_type": "stream",
     "text": [
      "validate phase: 100%|██████████| 7/7 [00:00<00:00, 19.21it/s, Loss=110, Accuracy=0.71%] \n"
     ]
    },
    {
     "name": "stdout",
     "output_type": "stream",
     "text": [
      "validate Loss: 1.9932 Acc: 0.3636\n",
      "\n",
      "Epoch finished at 1m 20s\n",
      "Epoch 34/99\n",
      "----------\n"
     ]
    },
    {
     "name": "stderr",
     "output_type": "stream",
     "text": [
      "train phase: 100%|██████████| 30/30 [00:01<00:00, 15.76it/s, Loss=446, Accuracy=0.14%]\n"
     ]
    },
    {
     "name": "stdout",
     "output_type": "stream",
     "text": [
      "train Loss: 1.8647 Acc: 0.3431\n"
     ]
    },
    {
     "name": "stderr",
     "output_type": "stream",
     "text": [
      "validate phase: 100%|██████████| 7/7 [00:00<00:00, 17.99it/s, Loss=110, Accuracy=0.71%] \n"
     ]
    },
    {
     "name": "stdout",
     "output_type": "stream",
     "text": [
      "validate Loss: 1.9931 Acc: 0.3636\n",
      "\n",
      "Epoch finished at 1m 22s\n",
      "Epoch 35/99\n",
      "----------\n"
     ]
    },
    {
     "name": "stderr",
     "output_type": "stream",
     "text": [
      "train phase: 100%|██████████| 30/30 [00:01<00:00, 15.90it/s, Loss=432, Accuracy=0.29%]\n"
     ]
    },
    {
     "name": "stdout",
     "output_type": "stream",
     "text": [
      "train Loss: 1.8082 Acc: 0.3389\n"
     ]
    },
    {
     "name": "stderr",
     "output_type": "stream",
     "text": [
      "validate phase: 100%|██████████| 7/7 [00:00<00:00, 18.08it/s, Loss=110, Accuracy=0.71%] \n"
     ]
    },
    {
     "name": "stdout",
     "output_type": "stream",
     "text": [
      "validate Loss: 1.9932 Acc: 0.3636\n",
      "\n",
      "Epoch finished at 1m 24s\n",
      "Epoch 36/99\n",
      "----------\n"
     ]
    },
    {
     "name": "stderr",
     "output_type": "stream",
     "text": [
      "train phase: 100%|██████████| 30/30 [00:01<00:00, 15.63it/s, Loss=438, Accuracy=0.43%]\n"
     ]
    },
    {
     "name": "stdout",
     "output_type": "stream",
     "text": [
      "train Loss: 1.8332 Acc: 0.3808\n"
     ]
    },
    {
     "name": "stderr",
     "output_type": "stream",
     "text": [
      "validate phase: 100%|██████████| 7/7 [00:00<00:00, 19.27it/s, Loss=110, Accuracy=0.71%] \n"
     ]
    },
    {
     "name": "stdout",
     "output_type": "stream",
     "text": [
      "validate Loss: 1.9931 Acc: 0.3636\n",
      "\n",
      "Epoch finished at 1m 27s\n",
      "Epoch 37/99\n",
      "----------\n"
     ]
    },
    {
     "name": "stderr",
     "output_type": "stream",
     "text": [
      "train phase: 100%|██████████| 30/30 [00:01<00:00, 15.92it/s, Loss=442, Accuracy=0.86%]\n"
     ]
    },
    {
     "name": "stdout",
     "output_type": "stream",
     "text": [
      "train Loss: 1.8509 Acc: 0.3640\n"
     ]
    },
    {
     "name": "stderr",
     "output_type": "stream",
     "text": [
      "validate phase: 100%|██████████| 7/7 [00:00<00:00, 18.44it/s, Loss=110, Accuracy=0.71%] \n"
     ]
    },
    {
     "name": "stdout",
     "output_type": "stream",
     "text": [
      "validate Loss: 1.9932 Acc: 0.3636\n",
      "\n",
      "Epoch finished at 1m 29s\n",
      "Epoch 38/99\n",
      "----------\n"
     ]
    },
    {
     "name": "stderr",
     "output_type": "stream",
     "text": [
      "train phase: 100%|██████████| 30/30 [00:01<00:00, 15.96it/s, Loss=463, Accuracy=0.43%]\n"
     ]
    },
    {
     "name": "stdout",
     "output_type": "stream",
     "text": [
      "train Loss: 1.9391 Acc: 0.3305\n"
     ]
    },
    {
     "name": "stderr",
     "output_type": "stream",
     "text": [
      "validate phase: 100%|██████████| 7/7 [00:00<00:00, 19.16it/s, Loss=110, Accuracy=0.71%] \n"
     ]
    },
    {
     "name": "stdout",
     "output_type": "stream",
     "text": [
      "validate Loss: 1.9932 Acc: 0.3636\n",
      "\n",
      "Epoch finished at 1m 31s\n",
      "Epoch 39/99\n",
      "----------\n"
     ]
    },
    {
     "name": "stderr",
     "output_type": "stream",
     "text": [
      "train phase: 100%|██████████| 30/30 [00:01<00:00, 15.53it/s, Loss=448, Accuracy=0.29%]\n"
     ]
    },
    {
     "name": "stdout",
     "output_type": "stream",
     "text": [
      "train Loss: 1.8759 Acc: 0.3389\n"
     ]
    },
    {
     "name": "stderr",
     "output_type": "stream",
     "text": [
      "validate phase: 100%|██████████| 7/7 [00:00<00:00, 18.68it/s, Loss=110, Accuracy=0.71%] \n"
     ]
    },
    {
     "name": "stdout",
     "output_type": "stream",
     "text": [
      "validate Loss: 1.9932 Acc: 0.3636\n",
      "\n",
      "Epoch finished at 1m 33s\n",
      "Epoch 40/99\n",
      "----------\n"
     ]
    },
    {
     "name": "stderr",
     "output_type": "stream",
     "text": [
      "train phase: 100%|██████████| 30/30 [00:01<00:00, 15.56it/s, Loss=442, Accuracy=0.43%]\n"
     ]
    },
    {
     "name": "stdout",
     "output_type": "stream",
     "text": [
      "train Loss: 1.8480 Acc: 0.3724\n"
     ]
    },
    {
     "name": "stderr",
     "output_type": "stream",
     "text": [
      "validate phase: 100%|██████████| 7/7 [00:00<00:00, 18.67it/s, Loss=110, Accuracy=0.71%] \n"
     ]
    },
    {
     "name": "stdout",
     "output_type": "stream",
     "text": [
      "validate Loss: 1.9932 Acc: 0.3636\n",
      "\n",
      "Epoch finished at 1m 36s\n",
      "Epoch 41/99\n",
      "----------\n"
     ]
    },
    {
     "name": "stderr",
     "output_type": "stream",
     "text": [
      "train phase: 100%|██████████| 30/30 [00:01<00:00, 16.00it/s, Loss=447, Accuracy=0.14%]\n"
     ]
    },
    {
     "name": "stdout",
     "output_type": "stream",
     "text": [
      "train Loss: 1.8712 Acc: 0.3305\n"
     ]
    },
    {
     "name": "stderr",
     "output_type": "stream",
     "text": [
      "validate phase: 100%|██████████| 7/7 [00:00<00:00, 17.36it/s, Loss=110, Accuracy=0.71%] \n"
     ]
    },
    {
     "name": "stdout",
     "output_type": "stream",
     "text": [
      "validate Loss: 1.9932 Acc: 0.3636\n",
      "\n",
      "Epoch finished at 1m 38s\n",
      "Epoch 42/99\n",
      "----------\n"
     ]
    },
    {
     "name": "stderr",
     "output_type": "stream",
     "text": [
      "train phase: 100%|██████████| 30/30 [00:01<00:00, 15.68it/s, Loss=445, Accuracy=0.14%]\n"
     ]
    },
    {
     "name": "stdout",
     "output_type": "stream",
     "text": [
      "train Loss: 1.8632 Acc: 0.3556\n"
     ]
    },
    {
     "name": "stderr",
     "output_type": "stream",
     "text": [
      "validate phase: 100%|██████████| 7/7 [00:00<00:00, 17.83it/s, Loss=110, Accuracy=0.71%] \n"
     ]
    },
    {
     "name": "stdout",
     "output_type": "stream",
     "text": [
      "validate Loss: 1.9932 Acc: 0.3636\n",
      "\n",
      "Epoch finished at 1m 40s\n",
      "Epoch 43/99\n",
      "----------\n"
     ]
    },
    {
     "name": "stderr",
     "output_type": "stream",
     "text": [
      "train phase: 100%|██████████| 30/30 [00:01<00:00, 16.14it/s, Loss=449, Accuracy=0.57%]\n"
     ]
    },
    {
     "name": "stdout",
     "output_type": "stream",
     "text": [
      "train Loss: 1.8803 Acc: 0.3640\n"
     ]
    },
    {
     "name": "stderr",
     "output_type": "stream",
     "text": [
      "validate phase: 100%|██████████| 7/7 [00:00<00:00, 19.76it/s, Loss=110, Accuracy=0.71%] \n"
     ]
    },
    {
     "name": "stdout",
     "output_type": "stream",
     "text": [
      "validate Loss: 1.9932 Acc: 0.3636\n",
      "\n",
      "Epoch finished at 1m 43s\n",
      "Epoch 44/99\n",
      "----------\n"
     ]
    },
    {
     "name": "stderr",
     "output_type": "stream",
     "text": [
      "train phase: 100%|██████████| 30/30 [00:01<00:00, 15.90it/s, Loss=441, Accuracy=0.57%]\n"
     ]
    },
    {
     "name": "stdout",
     "output_type": "stream",
     "text": [
      "train Loss: 1.8462 Acc: 0.3724\n"
     ]
    },
    {
     "name": "stderr",
     "output_type": "stream",
     "text": [
      "validate phase: 100%|██████████| 7/7 [00:00<00:00, 17.74it/s, Loss=110, Accuracy=0.71%] \n"
     ]
    },
    {
     "name": "stdout",
     "output_type": "stream",
     "text": [
      "validate Loss: 1.9932 Acc: 0.3636\n",
      "\n",
      "Epoch finished at 1m 45s\n",
      "Epoch 45/99\n",
      "----------\n"
     ]
    },
    {
     "name": "stderr",
     "output_type": "stream",
     "text": [
      "train phase: 100%|██████████| 30/30 [00:01<00:00, 15.64it/s, Loss=444, Accuracy=0.43%]\n"
     ]
    },
    {
     "name": "stdout",
     "output_type": "stream",
     "text": [
      "train Loss: 1.8597 Acc: 0.3431\n"
     ]
    },
    {
     "name": "stderr",
     "output_type": "stream",
     "text": [
      "validate phase: 100%|██████████| 7/7 [00:00<00:00, 18.40it/s, Loss=110, Accuracy=0.71%] \n"
     ]
    },
    {
     "name": "stdout",
     "output_type": "stream",
     "text": [
      "validate Loss: 1.9932 Acc: 0.3636\n",
      "\n",
      "Epoch finished at 1m 47s\n",
      "Epoch 46/99\n",
      "----------\n"
     ]
    },
    {
     "name": "stderr",
     "output_type": "stream",
     "text": [
      "train phase: 100%|██████████| 30/30 [00:01<00:00, 15.52it/s, Loss=435, Accuracy=0.43%]\n"
     ]
    },
    {
     "name": "stdout",
     "output_type": "stream",
     "text": [
      "train Loss: 1.8194 Acc: 0.3724\n"
     ]
    },
    {
     "name": "stderr",
     "output_type": "stream",
     "text": [
      "validate phase: 100%|██████████| 7/7 [00:00<00:00, 19.17it/s, Loss=110, Accuracy=0.71%] \n"
     ]
    },
    {
     "name": "stdout",
     "output_type": "stream",
     "text": [
      "validate Loss: 1.9932 Acc: 0.3636\n",
      "\n",
      "Epoch finished at 1m 50s\n",
      "Epoch 47/99\n",
      "----------\n"
     ]
    },
    {
     "name": "stderr",
     "output_type": "stream",
     "text": [
      "train phase: 100%|██████████| 30/30 [00:01<00:00, 15.71it/s, Loss=445, Accuracy=0.57%]\n"
     ]
    },
    {
     "name": "stdout",
     "output_type": "stream",
     "text": [
      "train Loss: 1.8614 Acc: 0.3556\n"
     ]
    },
    {
     "name": "stderr",
     "output_type": "stream",
     "text": [
      "validate phase: 100%|██████████| 7/7 [00:00<00:00, 18.78it/s, Loss=110, Accuracy=0.71%] \n"
     ]
    },
    {
     "name": "stdout",
     "output_type": "stream",
     "text": [
      "validate Loss: 1.9932 Acc: 0.3636\n",
      "\n",
      "Epoch finished at 1m 52s\n",
      "Epoch 48/99\n",
      "----------\n"
     ]
    },
    {
     "name": "stderr",
     "output_type": "stream",
     "text": [
      "train phase: 100%|██████████| 30/30 [00:01<00:00, 15.63it/s, Loss=442, Accuracy=0.14%]\n"
     ]
    },
    {
     "name": "stdout",
     "output_type": "stream",
     "text": [
      "train Loss: 1.8502 Acc: 0.3389\n"
     ]
    },
    {
     "name": "stderr",
     "output_type": "stream",
     "text": [
      "validate phase: 100%|██████████| 7/7 [00:00<00:00, 19.41it/s, Loss=110, Accuracy=0.71%] \n"
     ]
    },
    {
     "name": "stdout",
     "output_type": "stream",
     "text": [
      "validate Loss: 1.9932 Acc: 0.3636\n",
      "\n",
      "Epoch finished at 1m 54s\n",
      "Epoch 49/99\n",
      "----------\n"
     ]
    },
    {
     "name": "stderr",
     "output_type": "stream",
     "text": [
      "train phase: 100%|██████████| 30/30 [00:01<00:00, 15.68it/s, Loss=438, Accuracy=0.14%]\n"
     ]
    },
    {
     "name": "stdout",
     "output_type": "stream",
     "text": [
      "train Loss: 1.8307 Acc: 0.3556\n"
     ]
    },
    {
     "name": "stderr",
     "output_type": "stream",
     "text": [
      "validate phase: 100%|██████████| 7/7 [00:00<00:00, 19.28it/s, Loss=110, Accuracy=0.71%] \n"
     ]
    },
    {
     "name": "stdout",
     "output_type": "stream",
     "text": [
      "validate Loss: 1.9932 Acc: 0.3636\n",
      "\n",
      "Epoch finished at 1m 56s\n",
      "Epoch 50/99\n",
      "----------\n"
     ]
    },
    {
     "name": "stderr",
     "output_type": "stream",
     "text": [
      "train phase: 100%|██████████| 30/30 [00:01<00:00, 15.94it/s, Loss=447, Accuracy=0.43%]\n"
     ]
    },
    {
     "name": "stdout",
     "output_type": "stream",
     "text": [
      "train Loss: 1.8722 Acc: 0.3473\n"
     ]
    },
    {
     "name": "stderr",
     "output_type": "stream",
     "text": [
      "validate phase: 100%|██████████| 7/7 [00:00<00:00, 17.65it/s, Loss=110, Accuracy=0.71%] \n"
     ]
    },
    {
     "name": "stdout",
     "output_type": "stream",
     "text": [
      "validate Loss: 1.9932 Acc: 0.3636\n",
      "\n",
      "Epoch finished at 1m 59s\n",
      "Epoch 51/99\n",
      "----------\n"
     ]
    },
    {
     "name": "stderr",
     "output_type": "stream",
     "text": [
      "train phase: 100%|██████████| 30/30 [00:01<00:00, 15.78it/s, Loss=443, Accuracy=0.29%]\n"
     ]
    },
    {
     "name": "stdout",
     "output_type": "stream",
     "text": [
      "train Loss: 1.8518 Acc: 0.3473\n"
     ]
    },
    {
     "name": "stderr",
     "output_type": "stream",
     "text": [
      "validate phase: 100%|██████████| 7/7 [00:00<00:00, 18.72it/s, Loss=110, Accuracy=0.71%] \n"
     ]
    },
    {
     "name": "stdout",
     "output_type": "stream",
     "text": [
      "validate Loss: 1.9932 Acc: 0.3636\n",
      "\n",
      "Epoch finished at 2m 1s\n",
      "Epoch 52/99\n",
      "----------\n"
     ]
    },
    {
     "name": "stderr",
     "output_type": "stream",
     "text": [
      "train phase: 100%|██████████| 30/30 [00:01<00:00, 16.11it/s, Loss=446, Accuracy=0.29%]\n"
     ]
    },
    {
     "name": "stdout",
     "output_type": "stream",
     "text": [
      "train Loss: 1.8646 Acc: 0.3347\n"
     ]
    },
    {
     "name": "stderr",
     "output_type": "stream",
     "text": [
      "validate phase: 100%|██████████| 7/7 [00:00<00:00, 17.75it/s, Loss=110, Accuracy=0.71%] \n"
     ]
    },
    {
     "name": "stdout",
     "output_type": "stream",
     "text": [
      "validate Loss: 1.9932 Acc: 0.3636\n",
      "\n",
      "Epoch finished at 2m 3s\n",
      "Epoch 53/99\n",
      "----------\n"
     ]
    },
    {
     "name": "stderr",
     "output_type": "stream",
     "text": [
      "train phase: 100%|██████████| 30/30 [00:01<00:00, 15.59it/s, Loss=441, Accuracy=0.29%]\n"
     ]
    },
    {
     "name": "stdout",
     "output_type": "stream",
     "text": [
      "train Loss: 1.8463 Acc: 0.3473\n"
     ]
    },
    {
     "name": "stderr",
     "output_type": "stream",
     "text": [
      "validate phase: 100%|██████████| 7/7 [00:00<00:00, 18.06it/s, Loss=110, Accuracy=0.71%] \n"
     ]
    },
    {
     "name": "stdout",
     "output_type": "stream",
     "text": [
      "validate Loss: 1.9932 Acc: 0.3636\n",
      "\n",
      "Epoch finished at 2m 6s\n",
      "Epoch 54/99\n",
      "----------\n"
     ]
    },
    {
     "name": "stderr",
     "output_type": "stream",
     "text": [
      "train phase: 100%|██████████| 30/30 [00:01<00:00, 15.69it/s, Loss=443, Accuracy=0.14%]\n"
     ]
    },
    {
     "name": "stdout",
     "output_type": "stream",
     "text": [
      "train Loss: 1.8525 Acc: 0.3389\n"
     ]
    },
    {
     "name": "stderr",
     "output_type": "stream",
     "text": [
      "validate phase: 100%|██████████| 7/7 [00:00<00:00, 18.31it/s, Loss=110, Accuracy=0.71%] \n"
     ]
    },
    {
     "name": "stdout",
     "output_type": "stream",
     "text": [
      "validate Loss: 1.9932 Acc: 0.3636\n",
      "\n",
      "Epoch finished at 2m 8s\n",
      "Epoch 55/99\n",
      "----------\n"
     ]
    },
    {
     "name": "stderr",
     "output_type": "stream",
     "text": [
      "train phase: 100%|██████████| 30/30 [00:01<00:00, 16.00it/s, Loss=451, Accuracy=0.29%]\n"
     ]
    },
    {
     "name": "stdout",
     "output_type": "stream",
     "text": [
      "train Loss: 1.8890 Acc: 0.3515\n"
     ]
    },
    {
     "name": "stderr",
     "output_type": "stream",
     "text": [
      "validate phase: 100%|██████████| 7/7 [00:00<00:00, 19.88it/s, Loss=110, Accuracy=0.71%] \n"
     ]
    },
    {
     "name": "stdout",
     "output_type": "stream",
     "text": [
      "validate Loss: 1.9932 Acc: 0.3636\n",
      "\n",
      "Epoch finished at 2m 10s\n",
      "Epoch 56/99\n",
      "----------\n"
     ]
    },
    {
     "name": "stderr",
     "output_type": "stream",
     "text": [
      "train phase: 100%|██████████| 30/30 [00:01<00:00, 15.88it/s, Loss=443, Accuracy=0.57%]\n"
     ]
    },
    {
     "name": "stdout",
     "output_type": "stream",
     "text": [
      "train Loss: 1.8553 Acc: 0.3515\n"
     ]
    },
    {
     "name": "stderr",
     "output_type": "stream",
     "text": [
      "validate phase: 100%|██████████| 7/7 [00:00<00:00, 18.41it/s, Loss=110, Accuracy=0.71%] \n"
     ]
    },
    {
     "name": "stdout",
     "output_type": "stream",
     "text": [
      "validate Loss: 1.9932 Acc: 0.3636\n",
      "\n",
      "Epoch finished at 2m 12s\n",
      "Epoch 57/99\n",
      "----------\n"
     ]
    },
    {
     "name": "stderr",
     "output_type": "stream",
     "text": [
      "train phase: 100%|██████████| 30/30 [00:01<00:00, 15.89it/s, Loss=444, Accuracy=0.43%]\n"
     ]
    },
    {
     "name": "stdout",
     "output_type": "stream",
     "text": [
      "train Loss: 1.8567 Acc: 0.3556\n"
     ]
    },
    {
     "name": "stderr",
     "output_type": "stream",
     "text": [
      "validate phase: 100%|██████████| 7/7 [00:00<00:00, 18.43it/s, Loss=110, Accuracy=0.71%] \n"
     ]
    },
    {
     "name": "stdout",
     "output_type": "stream",
     "text": [
      "validate Loss: 1.9932 Acc: 0.3636\n",
      "\n",
      "Epoch finished at 2m 15s\n",
      "Epoch 58/99\n",
      "----------\n"
     ]
    },
    {
     "name": "stderr",
     "output_type": "stream",
     "text": [
      "train phase: 100%|██████████| 30/30 [00:01<00:00, 15.95it/s, Loss=446, Accuracy=0.29%]\n"
     ]
    },
    {
     "name": "stdout",
     "output_type": "stream",
     "text": [
      "train Loss: 1.8677 Acc: 0.3556\n"
     ]
    },
    {
     "name": "stderr",
     "output_type": "stream",
     "text": [
      "validate phase: 100%|██████████| 7/7 [00:00<00:00, 18.79it/s, Loss=110, Accuracy=0.71%] \n"
     ]
    },
    {
     "name": "stdout",
     "output_type": "stream",
     "text": [
      "validate Loss: 1.9932 Acc: 0.3636\n",
      "\n",
      "Epoch finished at 2m 17s\n",
      "Epoch 59/99\n",
      "----------\n"
     ]
    },
    {
     "name": "stderr",
     "output_type": "stream",
     "text": [
      "train phase: 100%|██████████| 30/30 [00:01<00:00, 15.75it/s, Loss=439, Accuracy=0.57%]\n"
     ]
    },
    {
     "name": "stdout",
     "output_type": "stream",
     "text": [
      "train Loss: 1.8354 Acc: 0.3556\n"
     ]
    },
    {
     "name": "stderr",
     "output_type": "stream",
     "text": [
      "validate phase: 100%|██████████| 7/7 [00:00<00:00, 18.96it/s, Loss=110, Accuracy=0.71%] \n"
     ]
    },
    {
     "name": "stdout",
     "output_type": "stream",
     "text": [
      "validate Loss: 1.9932 Acc: 0.3636\n",
      "\n",
      "Epoch finished at 2m 19s\n",
      "Epoch 60/99\n",
      "----------\n"
     ]
    },
    {
     "name": "stderr",
     "output_type": "stream",
     "text": [
      "train phase: 100%|██████████| 30/30 [00:01<00:00, 15.55it/s, Loss=436, Accuracy=0.29%]\n"
     ]
    },
    {
     "name": "stdout",
     "output_type": "stream",
     "text": [
      "train Loss: 1.8232 Acc: 0.3682\n"
     ]
    },
    {
     "name": "stderr",
     "output_type": "stream",
     "text": [
      "validate phase: 100%|██████████| 7/7 [00:00<00:00, 18.09it/s, Loss=110, Accuracy=0.71%] \n"
     ]
    },
    {
     "name": "stdout",
     "output_type": "stream",
     "text": [
      "validate Loss: 1.9932 Acc: 0.3636\n",
      "\n",
      "Epoch finished at 2m 22s\n",
      "Epoch 61/99\n",
      "----------\n"
     ]
    },
    {
     "name": "stderr",
     "output_type": "stream",
     "text": [
      "train phase: 100%|██████████| 30/30 [00:01<00:00, 15.66it/s, Loss=450, Accuracy=0.43%]\n"
     ]
    },
    {
     "name": "stdout",
     "output_type": "stream",
     "text": [
      "train Loss: 1.8812 Acc: 0.3431\n"
     ]
    },
    {
     "name": "stderr",
     "output_type": "stream",
     "text": [
      "validate phase: 100%|██████████| 7/7 [00:00<00:00, 18.14it/s, Loss=110, Accuracy=0.71%] \n"
     ]
    },
    {
     "name": "stdout",
     "output_type": "stream",
     "text": [
      "validate Loss: 1.9932 Acc: 0.3636\n",
      "\n",
      "Epoch finished at 2m 24s\n",
      "Epoch 62/99\n",
      "----------\n"
     ]
    },
    {
     "name": "stderr",
     "output_type": "stream",
     "text": [
      "train phase: 100%|██████████| 30/30 [00:01<00:00, 15.80it/s, Loss=447, Accuracy=0.29%]\n"
     ]
    },
    {
     "name": "stdout",
     "output_type": "stream",
     "text": [
      "train Loss: 1.8708 Acc: 0.3515\n"
     ]
    },
    {
     "name": "stderr",
     "output_type": "stream",
     "text": [
      "validate phase: 100%|██████████| 7/7 [00:00<00:00, 19.23it/s, Loss=110, Accuracy=0.71%] \n"
     ]
    },
    {
     "name": "stdout",
     "output_type": "stream",
     "text": [
      "validate Loss: 1.9932 Acc: 0.3636\n",
      "\n",
      "Epoch finished at 2m 26s\n",
      "Epoch 63/99\n",
      "----------\n"
     ]
    },
    {
     "name": "stderr",
     "output_type": "stream",
     "text": [
      "train phase: 100%|██████████| 30/30 [00:01<00:00, 15.83it/s, Loss=451, Accuracy=0.43%]\n"
     ]
    },
    {
     "name": "stdout",
     "output_type": "stream",
     "text": [
      "train Loss: 1.8857 Acc: 0.3180\n"
     ]
    },
    {
     "name": "stderr",
     "output_type": "stream",
     "text": [
      "validate phase: 100%|██████████| 7/7 [00:00<00:00, 18.79it/s, Loss=110, Accuracy=0.71%] \n"
     ]
    },
    {
     "name": "stdout",
     "output_type": "stream",
     "text": [
      "validate Loss: 1.9932 Acc: 0.3636\n",
      "\n",
      "Epoch finished at 2m 28s\n",
      "Epoch 64/99\n",
      "----------\n"
     ]
    },
    {
     "name": "stderr",
     "output_type": "stream",
     "text": [
      "train phase: 100%|██████████| 30/30 [00:01<00:00, 15.69it/s, Loss=452, Accuracy=0.29%]\n"
     ]
    },
    {
     "name": "stdout",
     "output_type": "stream",
     "text": [
      "train Loss: 1.8914 Acc: 0.3682\n"
     ]
    },
    {
     "name": "stderr",
     "output_type": "stream",
     "text": [
      "validate phase: 100%|██████████| 7/7 [00:00<00:00, 18.85it/s, Loss=110, Accuracy=0.71%] \n"
     ]
    },
    {
     "name": "stdout",
     "output_type": "stream",
     "text": [
      "validate Loss: 1.9932 Acc: 0.3636\n",
      "\n",
      "Epoch finished at 2m 31s\n",
      "Epoch 65/99\n",
      "----------\n"
     ]
    },
    {
     "name": "stderr",
     "output_type": "stream",
     "text": [
      "train phase: 100%|██████████| 30/30 [00:01<00:00, 15.66it/s, Loss=447, Accuracy=0.43%]\n"
     ]
    },
    {
     "name": "stdout",
     "output_type": "stream",
     "text": [
      "train Loss: 1.8717 Acc: 0.3389\n"
     ]
    },
    {
     "name": "stderr",
     "output_type": "stream",
     "text": [
      "validate phase: 100%|██████████| 7/7 [00:00<00:00, 18.22it/s, Loss=110, Accuracy=0.71%] \n"
     ]
    },
    {
     "name": "stdout",
     "output_type": "stream",
     "text": [
      "validate Loss: 1.9932 Acc: 0.3636\n",
      "\n",
      "Epoch finished at 2m 33s\n",
      "Epoch 66/99\n",
      "----------\n"
     ]
    },
    {
     "name": "stderr",
     "output_type": "stream",
     "text": [
      "train phase: 100%|██████████| 30/30 [00:01<00:00, 15.76it/s, Loss=443, Accuracy=0.14%]\n"
     ]
    },
    {
     "name": "stdout",
     "output_type": "stream",
     "text": [
      "train Loss: 1.8541 Acc: 0.3431\n"
     ]
    },
    {
     "name": "stderr",
     "output_type": "stream",
     "text": [
      "validate phase: 100%|██████████| 7/7 [00:00<00:00, 18.60it/s, Loss=110, Accuracy=0.71%] \n"
     ]
    },
    {
     "name": "stdout",
     "output_type": "stream",
     "text": [
      "validate Loss: 1.9932 Acc: 0.3636\n",
      "\n",
      "Epoch finished at 2m 35s\n",
      "Epoch 67/99\n",
      "----------\n"
     ]
    },
    {
     "name": "stderr",
     "output_type": "stream",
     "text": [
      "train phase: 100%|██████████| 30/30 [00:01<00:00, 15.64it/s, Loss=448, Accuracy=0.14%]\n"
     ]
    },
    {
     "name": "stdout",
     "output_type": "stream",
     "text": [
      "train Loss: 1.8747 Acc: 0.3473\n"
     ]
    },
    {
     "name": "stderr",
     "output_type": "stream",
     "text": [
      "validate phase: 100%|██████████| 7/7 [00:00<00:00, 19.83it/s, Loss=110, Accuracy=0.71%] \n"
     ]
    },
    {
     "name": "stdout",
     "output_type": "stream",
     "text": [
      "validate Loss: 1.9932 Acc: 0.3636\n",
      "\n",
      "Epoch finished at 2m 38s\n",
      "Epoch 68/99\n",
      "----------\n"
     ]
    },
    {
     "name": "stderr",
     "output_type": "stream",
     "text": [
      "train phase: 100%|██████████| 30/30 [00:01<00:00, 15.85it/s, Loss=444, Accuracy=0.00%]\n"
     ]
    },
    {
     "name": "stdout",
     "output_type": "stream",
     "text": [
      "train Loss: 1.8580 Acc: 0.3473\n"
     ]
    },
    {
     "name": "stderr",
     "output_type": "stream",
     "text": [
      "validate phase: 100%|██████████| 7/7 [00:00<00:00, 17.66it/s, Loss=110, Accuracy=0.71%] \n"
     ]
    },
    {
     "name": "stdout",
     "output_type": "stream",
     "text": [
      "validate Loss: 1.9932 Acc: 0.3636\n",
      "\n",
      "Epoch finished at 2m 40s\n",
      "Epoch 69/99\n",
      "----------\n"
     ]
    },
    {
     "name": "stderr",
     "output_type": "stream",
     "text": [
      "train phase: 100%|██████████| 30/30 [00:01<00:00, 15.51it/s, Loss=445, Accuracy=0.00%]\n"
     ]
    },
    {
     "name": "stdout",
     "output_type": "stream",
     "text": [
      "train Loss: 1.8625 Acc: 0.3138\n"
     ]
    },
    {
     "name": "stderr",
     "output_type": "stream",
     "text": [
      "validate phase: 100%|██████████| 7/7 [00:00<00:00, 18.89it/s, Loss=110, Accuracy=0.71%] \n"
     ]
    },
    {
     "name": "stdout",
     "output_type": "stream",
     "text": [
      "validate Loss: 1.9932 Acc: 0.3636\n",
      "\n",
      "Epoch finished at 2m 42s\n",
      "Epoch 70/99\n",
      "----------\n"
     ]
    },
    {
     "name": "stderr",
     "output_type": "stream",
     "text": [
      "train phase: 100%|██████████| 30/30 [00:01<00:00, 15.95it/s, Loss=439, Accuracy=0.14%]\n"
     ]
    },
    {
     "name": "stdout",
     "output_type": "stream",
     "text": [
      "train Loss: 1.8377 Acc: 0.3724\n"
     ]
    },
    {
     "name": "stderr",
     "output_type": "stream",
     "text": [
      "validate phase: 100%|██████████| 7/7 [00:00<00:00, 18.83it/s, Loss=110, Accuracy=0.71%] \n"
     ]
    },
    {
     "name": "stdout",
     "output_type": "stream",
     "text": [
      "validate Loss: 1.9932 Acc: 0.3636\n",
      "\n",
      "Epoch finished at 2m 44s\n",
      "Epoch 71/99\n",
      "----------\n"
     ]
    },
    {
     "name": "stderr",
     "output_type": "stream",
     "text": [
      "train phase: 100%|██████████| 30/30 [00:01<00:00, 15.52it/s, Loss=443, Accuracy=0.29%]\n"
     ]
    },
    {
     "name": "stdout",
     "output_type": "stream",
     "text": [
      "train Loss: 1.8518 Acc: 0.3264\n"
     ]
    },
    {
     "name": "stderr",
     "output_type": "stream",
     "text": [
      "validate phase: 100%|██████████| 7/7 [00:00<00:00, 19.15it/s, Loss=110, Accuracy=0.71%] \n"
     ]
    },
    {
     "name": "stdout",
     "output_type": "stream",
     "text": [
      "validate Loss: 1.9932 Acc: 0.3636\n",
      "\n",
      "Epoch finished at 2m 47s\n",
      "Epoch 72/99\n",
      "----------\n"
     ]
    },
    {
     "name": "stderr",
     "output_type": "stream",
     "text": [
      "train phase: 100%|██████████| 30/30 [00:01<00:00, 15.78it/s, Loss=443, Accuracy=0.14%]\n"
     ]
    },
    {
     "name": "stdout",
     "output_type": "stream",
     "text": [
      "train Loss: 1.8551 Acc: 0.3305\n"
     ]
    },
    {
     "name": "stderr",
     "output_type": "stream",
     "text": [
      "validate phase: 100%|██████████| 7/7 [00:00<00:00, 18.38it/s, Loss=110, Accuracy=0.71%] \n"
     ]
    },
    {
     "name": "stdout",
     "output_type": "stream",
     "text": [
      "validate Loss: 1.9932 Acc: 0.3636\n",
      "\n",
      "Epoch finished at 2m 49s\n",
      "Epoch 73/99\n",
      "----------\n"
     ]
    },
    {
     "name": "stderr",
     "output_type": "stream",
     "text": [
      "train phase: 100%|██████████| 30/30 [00:01<00:00, 15.42it/s, Loss=447, Accuracy=0.57%]\n"
     ]
    },
    {
     "name": "stdout",
     "output_type": "stream",
     "text": [
      "train Loss: 1.8723 Acc: 0.3222\n"
     ]
    },
    {
     "name": "stderr",
     "output_type": "stream",
     "text": [
      "validate phase: 100%|██████████| 7/7 [00:00<00:00, 18.84it/s, Loss=110, Accuracy=0.71%] \n"
     ]
    },
    {
     "name": "stdout",
     "output_type": "stream",
     "text": [
      "validate Loss: 1.9932 Acc: 0.3636\n",
      "\n",
      "Epoch finished at 2m 51s\n",
      "Epoch 74/99\n",
      "----------\n"
     ]
    },
    {
     "name": "stderr",
     "output_type": "stream",
     "text": [
      "train phase: 100%|██████████| 30/30 [00:01<00:00, 15.50it/s, Loss=450, Accuracy=0.29%]\n"
     ]
    },
    {
     "name": "stdout",
     "output_type": "stream",
     "text": [
      "train Loss: 1.8835 Acc: 0.3389\n"
     ]
    },
    {
     "name": "stderr",
     "output_type": "stream",
     "text": [
      "validate phase: 100%|██████████| 7/7 [00:00<00:00, 18.98it/s, Loss=110, Accuracy=0.71%] \n"
     ]
    },
    {
     "name": "stdout",
     "output_type": "stream",
     "text": [
      "validate Loss: 1.9932 Acc: 0.3636\n",
      "\n",
      "Epoch finished at 2m 54s\n",
      "Epoch 75/99\n",
      "----------\n"
     ]
    },
    {
     "name": "stderr",
     "output_type": "stream",
     "text": [
      "train phase: 100%|██████████| 30/30 [00:01<00:00, 15.69it/s, Loss=442, Accuracy=0.29%]\n"
     ]
    },
    {
     "name": "stdout",
     "output_type": "stream",
     "text": [
      "train Loss: 1.8487 Acc: 0.3515\n"
     ]
    },
    {
     "name": "stderr",
     "output_type": "stream",
     "text": [
      "validate phase: 100%|██████████| 7/7 [00:00<00:00, 17.27it/s, Loss=110, Accuracy=0.71%] \n"
     ]
    },
    {
     "name": "stdout",
     "output_type": "stream",
     "text": [
      "validate Loss: 1.9932 Acc: 0.3636\n",
      "\n",
      "Epoch finished at 2m 56s\n",
      "Epoch 76/99\n",
      "----------\n"
     ]
    },
    {
     "name": "stderr",
     "output_type": "stream",
     "text": [
      "train phase: 100%|██████████| 30/30 [00:01<00:00, 15.62it/s, Loss=444, Accuracy=0.57%]\n"
     ]
    },
    {
     "name": "stdout",
     "output_type": "stream",
     "text": [
      "train Loss: 1.8585 Acc: 0.3431\n"
     ]
    },
    {
     "name": "stderr",
     "output_type": "stream",
     "text": [
      "validate phase: 100%|██████████| 7/7 [00:00<00:00, 19.04it/s, Loss=110, Accuracy=0.71%] \n"
     ]
    },
    {
     "name": "stdout",
     "output_type": "stream",
     "text": [
      "validate Loss: 1.9932 Acc: 0.3636\n",
      "\n",
      "Epoch finished at 2m 58s\n",
      "Epoch 77/99\n",
      "----------\n"
     ]
    },
    {
     "name": "stderr",
     "output_type": "stream",
     "text": [
      "train phase: 100%|██████████| 30/30 [00:01<00:00, 15.57it/s, Loss=436, Accuracy=0.71%]\n"
     ]
    },
    {
     "name": "stdout",
     "output_type": "stream",
     "text": [
      "train Loss: 1.8239 Acc: 0.3515\n"
     ]
    },
    {
     "name": "stderr",
     "output_type": "stream",
     "text": [
      "validate phase: 100%|██████████| 7/7 [00:00<00:00, 18.69it/s, Loss=110, Accuracy=0.71%] \n"
     ]
    },
    {
     "name": "stdout",
     "output_type": "stream",
     "text": [
      "validate Loss: 1.9932 Acc: 0.3636\n",
      "\n",
      "Epoch finished at 3m 1s\n",
      "Epoch 78/99\n",
      "----------\n"
     ]
    },
    {
     "name": "stderr",
     "output_type": "stream",
     "text": [
      "train phase: 100%|██████████| 30/30 [00:01<00:00, 16.06it/s, Loss=443, Accuracy=0.29%]\n"
     ]
    },
    {
     "name": "stdout",
     "output_type": "stream",
     "text": [
      "train Loss: 1.8548 Acc: 0.3473\n"
     ]
    },
    {
     "name": "stderr",
     "output_type": "stream",
     "text": [
      "validate phase: 100%|██████████| 7/7 [00:00<00:00, 19.09it/s, Loss=110, Accuracy=0.71%] \n"
     ]
    },
    {
     "name": "stdout",
     "output_type": "stream",
     "text": [
      "validate Loss: 1.9932 Acc: 0.3636\n",
      "\n",
      "Epoch finished at 3m 3s\n",
      "Epoch 79/99\n",
      "----------\n"
     ]
    },
    {
     "name": "stderr",
     "output_type": "stream",
     "text": [
      "train phase: 100%|██████████| 30/30 [00:01<00:00, 15.88it/s, Loss=447, Accuracy=0.43%]\n"
     ]
    },
    {
     "name": "stdout",
     "output_type": "stream",
     "text": [
      "train Loss: 1.8696 Acc: 0.3473\n"
     ]
    },
    {
     "name": "stderr",
     "output_type": "stream",
     "text": [
      "validate phase: 100%|██████████| 7/7 [00:00<00:00, 18.31it/s, Loss=110, Accuracy=0.71%] \n"
     ]
    },
    {
     "name": "stdout",
     "output_type": "stream",
     "text": [
      "validate Loss: 1.9932 Acc: 0.3636\n",
      "\n",
      "Epoch finished at 3m 5s\n",
      "Epoch 80/99\n",
      "----------\n"
     ]
    },
    {
     "name": "stderr",
     "output_type": "stream",
     "text": [
      "train phase: 100%|██████████| 30/30 [00:01<00:00, 15.87it/s, Loss=445, Accuracy=0.00%]\n"
     ]
    },
    {
     "name": "stdout",
     "output_type": "stream",
     "text": [
      "train Loss: 1.8624 Acc: 0.3808\n"
     ]
    },
    {
     "name": "stderr",
     "output_type": "stream",
     "text": [
      "validate phase: 100%|██████████| 7/7 [00:00<00:00, 18.11it/s, Loss=110, Accuracy=0.71%] \n"
     ]
    },
    {
     "name": "stdout",
     "output_type": "stream",
     "text": [
      "validate Loss: 1.9932 Acc: 0.3636\n",
      "\n",
      "Epoch finished at 3m 7s\n",
      "Epoch 81/99\n",
      "----------\n"
     ]
    },
    {
     "name": "stderr",
     "output_type": "stream",
     "text": [
      "train phase: 100%|██████████| 30/30 [00:01<00:00, 15.77it/s, Loss=451, Accuracy=0.29%]\n"
     ]
    },
    {
     "name": "stdout",
     "output_type": "stream",
     "text": [
      "train Loss: 1.8876 Acc: 0.3264\n"
     ]
    },
    {
     "name": "stderr",
     "output_type": "stream",
     "text": [
      "validate phase: 100%|██████████| 7/7 [00:00<00:00, 18.72it/s, Loss=110, Accuracy=0.71%] \n"
     ]
    },
    {
     "name": "stdout",
     "output_type": "stream",
     "text": [
      "validate Loss: 1.9932 Acc: 0.3636\n",
      "\n",
      "Epoch finished at 3m 10s\n",
      "Epoch 82/99\n",
      "----------\n"
     ]
    },
    {
     "name": "stderr",
     "output_type": "stream",
     "text": [
      "train phase: 100%|██████████| 30/30 [00:01<00:00, 15.80it/s, Loss=452, Accuracy=0.43%]\n"
     ]
    },
    {
     "name": "stdout",
     "output_type": "stream",
     "text": [
      "train Loss: 1.8915 Acc: 0.3515\n"
     ]
    },
    {
     "name": "stderr",
     "output_type": "stream",
     "text": [
      "validate phase: 100%|██████████| 7/7 [00:00<00:00, 18.76it/s, Loss=110, Accuracy=0.71%] \n"
     ]
    },
    {
     "name": "stdout",
     "output_type": "stream",
     "text": [
      "validate Loss: 1.9932 Acc: 0.3636\n",
      "\n",
      "Epoch finished at 3m 12s\n",
      "Epoch 83/99\n",
      "----------\n"
     ]
    },
    {
     "name": "stderr",
     "output_type": "stream",
     "text": [
      "train phase: 100%|██████████| 30/30 [00:01<00:00, 15.45it/s, Loss=436, Accuracy=0.43%]\n"
     ]
    },
    {
     "name": "stdout",
     "output_type": "stream",
     "text": [
      "train Loss: 1.8261 Acc: 0.3724\n"
     ]
    },
    {
     "name": "stderr",
     "output_type": "stream",
     "text": [
      "validate phase: 100%|██████████| 7/7 [00:00<00:00, 19.35it/s, Loss=110, Accuracy=0.71%] \n"
     ]
    },
    {
     "name": "stdout",
     "output_type": "stream",
     "text": [
      "validate Loss: 1.9932 Acc: 0.3636\n",
      "\n",
      "Epoch finished at 3m 14s\n",
      "Epoch 84/99\n",
      "----------\n"
     ]
    },
    {
     "name": "stderr",
     "output_type": "stream",
     "text": [
      "train phase: 100%|██████████| 30/30 [00:01<00:00, 15.98it/s, Loss=449, Accuracy=0.71%]\n"
     ]
    },
    {
     "name": "stdout",
     "output_type": "stream",
     "text": [
      "train Loss: 1.8772 Acc: 0.3598\n"
     ]
    },
    {
     "name": "stderr",
     "output_type": "stream",
     "text": [
      "validate phase: 100%|██████████| 7/7 [00:00<00:00, 20.13it/s, Loss=110, Accuracy=0.71%] \n"
     ]
    },
    {
     "name": "stdout",
     "output_type": "stream",
     "text": [
      "validate Loss: 1.9932 Acc: 0.3636\n",
      "\n",
      "Epoch finished at 3m 16s\n",
      "Epoch 85/99\n",
      "----------\n"
     ]
    },
    {
     "name": "stderr",
     "output_type": "stream",
     "text": [
      "train phase: 100%|██████████| 30/30 [00:01<00:00, 15.49it/s, Loss=446, Accuracy=0.29%]\n"
     ]
    },
    {
     "name": "stdout",
     "output_type": "stream",
     "text": [
      "train Loss: 1.8673 Acc: 0.3389\n"
     ]
    },
    {
     "name": "stderr",
     "output_type": "stream",
     "text": [
      "validate phase: 100%|██████████| 7/7 [00:00<00:00, 18.98it/s, Loss=110, Accuracy=0.71%] \n"
     ]
    },
    {
     "name": "stdout",
     "output_type": "stream",
     "text": [
      "validate Loss: 1.9932 Acc: 0.3636\n",
      "\n",
      "Epoch finished at 3m 19s\n",
      "Epoch 86/99\n",
      "----------\n"
     ]
    },
    {
     "name": "stderr",
     "output_type": "stream",
     "text": [
      "train phase: 100%|██████████| 30/30 [00:01<00:00, 15.74it/s, Loss=445, Accuracy=0.29%]\n"
     ]
    },
    {
     "name": "stdout",
     "output_type": "stream",
     "text": [
      "train Loss: 1.8600 Acc: 0.3891\n"
     ]
    },
    {
     "name": "stderr",
     "output_type": "stream",
     "text": [
      "validate phase: 100%|██████████| 7/7 [00:00<00:00, 18.83it/s, Loss=110, Accuracy=0.71%] \n"
     ]
    },
    {
     "name": "stdout",
     "output_type": "stream",
     "text": [
      "validate Loss: 1.9932 Acc: 0.3636\n",
      "\n",
      "Epoch finished at 3m 21s\n",
      "Epoch 87/99\n",
      "----------\n"
     ]
    },
    {
     "name": "stderr",
     "output_type": "stream",
     "text": [
      "train phase: 100%|██████████| 30/30 [00:01<00:00, 15.78it/s, Loss=454, Accuracy=0.29%]\n"
     ]
    },
    {
     "name": "stdout",
     "output_type": "stream",
     "text": [
      "train Loss: 1.8983 Acc: 0.3389\n"
     ]
    },
    {
     "name": "stderr",
     "output_type": "stream",
     "text": [
      "validate phase: 100%|██████████| 7/7 [00:00<00:00, 17.14it/s, Loss=110, Accuracy=0.71%] \n"
     ]
    },
    {
     "name": "stdout",
     "output_type": "stream",
     "text": [
      "validate Loss: 1.9932 Acc: 0.3636\n",
      "\n",
      "Epoch finished at 3m 23s\n",
      "Epoch 88/99\n",
      "----------\n"
     ]
    },
    {
     "name": "stderr",
     "output_type": "stream",
     "text": [
      "train phase: 100%|██████████| 30/30 [00:01<00:00, 16.01it/s, Loss=442, Accuracy=0.43%]\n"
     ]
    },
    {
     "name": "stdout",
     "output_type": "stream",
     "text": [
      "train Loss: 1.8482 Acc: 0.3389\n"
     ]
    },
    {
     "name": "stderr",
     "output_type": "stream",
     "text": [
      "validate phase: 100%|██████████| 7/7 [00:00<00:00, 17.89it/s, Loss=110, Accuracy=0.71%] \n"
     ]
    },
    {
     "name": "stdout",
     "output_type": "stream",
     "text": [
      "validate Loss: 1.9932 Acc: 0.3636\n",
      "\n",
      "Epoch finished at 3m 26s\n",
      "Epoch 89/99\n",
      "----------\n"
     ]
    },
    {
     "name": "stderr",
     "output_type": "stream",
     "text": [
      "train phase: 100%|██████████| 30/30 [00:01<00:00, 15.62it/s, Loss=448, Accuracy=0.43%]\n"
     ]
    },
    {
     "name": "stdout",
     "output_type": "stream",
     "text": [
      "train Loss: 1.8744 Acc: 0.3556\n"
     ]
    },
    {
     "name": "stderr",
     "output_type": "stream",
     "text": [
      "validate phase: 100%|██████████| 7/7 [00:00<00:00, 18.67it/s, Loss=110, Accuracy=0.71%] \n"
     ]
    },
    {
     "name": "stdout",
     "output_type": "stream",
     "text": [
      "validate Loss: 1.9932 Acc: 0.3636\n",
      "\n",
      "Epoch finished at 3m 28s\n",
      "Epoch 90/99\n",
      "----------\n"
     ]
    },
    {
     "name": "stderr",
     "output_type": "stream",
     "text": [
      "train phase: 100%|██████████| 30/30 [00:01<00:00, 15.62it/s, Loss=439, Accuracy=0.14%]\n"
     ]
    },
    {
     "name": "stdout",
     "output_type": "stream",
     "text": [
      "train Loss: 1.8366 Acc: 0.3849\n"
     ]
    },
    {
     "name": "stderr",
     "output_type": "stream",
     "text": [
      "validate phase: 100%|██████████| 7/7 [00:00<00:00, 19.14it/s, Loss=110, Accuracy=0.71%] \n"
     ]
    },
    {
     "name": "stdout",
     "output_type": "stream",
     "text": [
      "validate Loss: 1.9932 Acc: 0.3636\n",
      "\n",
      "Epoch finished at 3m 30s\n",
      "Epoch 91/99\n",
      "----------\n"
     ]
    },
    {
     "name": "stderr",
     "output_type": "stream",
     "text": [
      "train phase: 100%|██████████| 30/30 [00:01<00:00, 15.74it/s, Loss=451, Accuracy=0.57%]\n"
     ]
    },
    {
     "name": "stdout",
     "output_type": "stream",
     "text": [
      "train Loss: 1.8871 Acc: 0.3682\n"
     ]
    },
    {
     "name": "stderr",
     "output_type": "stream",
     "text": [
      "validate phase: 100%|██████████| 7/7 [00:00<00:00, 17.81it/s, Loss=110, Accuracy=0.71%] \n"
     ]
    },
    {
     "name": "stdout",
     "output_type": "stream",
     "text": [
      "validate Loss: 1.9932 Acc: 0.3636\n",
      "\n",
      "Epoch finished at 3m 33s\n",
      "Epoch 92/99\n",
      "----------\n"
     ]
    },
    {
     "name": "stderr",
     "output_type": "stream",
     "text": [
      "train phase: 100%|██████████| 30/30 [00:01<00:00, 15.94it/s, Loss=446, Accuracy=0.00%]\n"
     ]
    },
    {
     "name": "stdout",
     "output_type": "stream",
     "text": [
      "train Loss: 1.8667 Acc: 0.3515\n"
     ]
    },
    {
     "name": "stderr",
     "output_type": "stream",
     "text": [
      "validate phase: 100%|██████████| 7/7 [00:00<00:00, 18.24it/s, Loss=110, Accuracy=0.71%] \n"
     ]
    },
    {
     "name": "stdout",
     "output_type": "stream",
     "text": [
      "validate Loss: 1.9932 Acc: 0.3636\n",
      "\n",
      "Epoch finished at 3m 35s\n",
      "Epoch 93/99\n",
      "----------\n"
     ]
    },
    {
     "name": "stderr",
     "output_type": "stream",
     "text": [
      "train phase: 100%|██████████| 30/30 [00:01<00:00, 15.97it/s, Loss=443, Accuracy=0.14%]\n"
     ]
    },
    {
     "name": "stdout",
     "output_type": "stream",
     "text": [
      "train Loss: 1.8547 Acc: 0.3556\n"
     ]
    },
    {
     "name": "stderr",
     "output_type": "stream",
     "text": [
      "validate phase: 100%|██████████| 7/7 [00:00<00:00, 20.41it/s, Loss=110, Accuracy=0.71%] \n"
     ]
    },
    {
     "name": "stdout",
     "output_type": "stream",
     "text": [
      "validate Loss: 1.9932 Acc: 0.3636\n",
      "\n",
      "Epoch finished at 3m 37s\n",
      "Epoch 94/99\n",
      "----------\n"
     ]
    },
    {
     "name": "stderr",
     "output_type": "stream",
     "text": [
      "train phase: 100%|██████████| 30/30 [00:01<00:00, 15.53it/s, Loss=445, Accuracy=0.29%]\n"
     ]
    },
    {
     "name": "stdout",
     "output_type": "stream",
     "text": [
      "train Loss: 1.8637 Acc: 0.3556\n"
     ]
    },
    {
     "name": "stderr",
     "output_type": "stream",
     "text": [
      "validate phase: 100%|██████████| 7/7 [00:00<00:00, 18.99it/s, Loss=110, Accuracy=0.71%] \n"
     ]
    },
    {
     "name": "stdout",
     "output_type": "stream",
     "text": [
      "validate Loss: 1.9932 Acc: 0.3636\n",
      "\n",
      "Epoch finished at 3m 39s\n",
      "Epoch 95/99\n",
      "----------\n"
     ]
    },
    {
     "name": "stderr",
     "output_type": "stream",
     "text": [
      "train phase: 100%|██████████| 30/30 [00:01<00:00, 15.83it/s, Loss=446, Accuracy=0.71%]\n"
     ]
    },
    {
     "name": "stdout",
     "output_type": "stream",
     "text": [
      "train Loss: 1.8655 Acc: 0.3640\n"
     ]
    },
    {
     "name": "stderr",
     "output_type": "stream",
     "text": [
      "validate phase: 100%|██████████| 7/7 [00:00<00:00, 17.61it/s, Loss=110, Accuracy=0.71%] \n"
     ]
    },
    {
     "name": "stdout",
     "output_type": "stream",
     "text": [
      "validate Loss: 1.9932 Acc: 0.3636\n",
      "\n",
      "Epoch finished at 3m 42s\n",
      "Epoch 96/99\n",
      "----------\n"
     ]
    },
    {
     "name": "stderr",
     "output_type": "stream",
     "text": [
      "train phase: 100%|██████████| 30/30 [00:01<00:00, 15.57it/s, Loss=446, Accuracy=0.00%]\n"
     ]
    },
    {
     "name": "stdout",
     "output_type": "stream",
     "text": [
      "train Loss: 1.8681 Acc: 0.3264\n"
     ]
    },
    {
     "name": "stderr",
     "output_type": "stream",
     "text": [
      "validate phase: 100%|██████████| 7/7 [00:00<00:00, 18.33it/s, Loss=110, Accuracy=0.71%] \n"
     ]
    },
    {
     "name": "stdout",
     "output_type": "stream",
     "text": [
      "validate Loss: 1.9932 Acc: 0.3636\n",
      "\n",
      "Epoch finished at 3m 44s\n",
      "Epoch 97/99\n",
      "----------\n"
     ]
    },
    {
     "name": "stderr",
     "output_type": "stream",
     "text": [
      "train phase: 100%|██████████| 30/30 [00:01<00:00, 15.94it/s, Loss=450, Accuracy=0.29%]\n"
     ]
    },
    {
     "name": "stdout",
     "output_type": "stream",
     "text": [
      "train Loss: 1.8844 Acc: 0.3473\n"
     ]
    },
    {
     "name": "stderr",
     "output_type": "stream",
     "text": [
      "validate phase: 100%|██████████| 7/7 [00:00<00:00, 19.34it/s, Loss=110, Accuracy=0.71%] \n"
     ]
    },
    {
     "name": "stdout",
     "output_type": "stream",
     "text": [
      "validate Loss: 1.9932 Acc: 0.3636\n",
      "\n",
      "Epoch finished at 3m 46s\n",
      "Epoch 98/99\n",
      "----------\n"
     ]
    },
    {
     "name": "stderr",
     "output_type": "stream",
     "text": [
      "train phase: 100%|██████████| 30/30 [00:01<00:00, 15.60it/s, Loss=448, Accuracy=0.29%]\n"
     ]
    },
    {
     "name": "stdout",
     "output_type": "stream",
     "text": [
      "train Loss: 1.8729 Acc: 0.3431\n"
     ]
    },
    {
     "name": "stderr",
     "output_type": "stream",
     "text": [
      "validate phase: 100%|██████████| 7/7 [00:00<00:00, 19.88it/s, Loss=110, Accuracy=0.71%] \n"
     ]
    },
    {
     "name": "stdout",
     "output_type": "stream",
     "text": [
      "validate Loss: 1.9932 Acc: 0.3636\n",
      "\n",
      "Epoch finished at 3m 49s\n",
      "Epoch 99/99\n",
      "----------\n"
     ]
    },
    {
     "name": "stderr",
     "output_type": "stream",
     "text": [
      "train phase: 100%|██████████| 30/30 [00:01<00:00, 15.77it/s, Loss=447, Accuracy=0.14%]\n"
     ]
    },
    {
     "name": "stdout",
     "output_type": "stream",
     "text": [
      "train Loss: 1.8716 Acc: 0.3347\n"
     ]
    },
    {
     "name": "stderr",
     "output_type": "stream",
     "text": [
      "validate phase: 100%|██████████| 7/7 [00:00<00:00, 18.09it/s, Loss=110, Accuracy=0.71%] \n"
     ]
    },
    {
     "name": "stdout",
     "output_type": "stream",
     "text": [
      "validate Loss: 1.9932 Acc: 0.3636\n",
      "\n",
      "Epoch finished at 3m 51s\n"
     ]
    },
    {
     "data": {
      "image/png": "[encoded data removed]",
      "text/plain": [
       "<Figure size 640x480 with 2 Axes>"
      ]
     },
     "metadata": {},
     "output_type": "display_data"
    }
   ],
   "source": [
    "model = Classificator().to(device)\n",
    "criterion = nn.CrossEntropyLoss()\n",
    "optimizer = optim.Adam(model.parameters(), lr=1e-3)\n",
    "scheduler = optim.lr_scheduler.StepLR(optimizer, step_size=7, gamma=0.1)\n",
    "\n",
    "\n",
    "since = time.time()\n",
    "train_acc = []\n",
    "val_acc = []\n",
    "train_loss = []\n",
    "val_loss = []\n",
    "\n",
    "for epoch in range(num_epochs):\n",
    "    print(f\"Epoch {epoch}/{num_epochs-1}\")\n",
    "    print(\"-\"*10)\n",
    "\n",
    "    for phase in [\"train\", \"validate\"]:\n",
    "        if phase == \"train\":\n",
    "            model.train()\n",
    "        else:\n",
    "            model.eval()\n",
    "        \n",
    "        running_loss = 0.0\n",
    "        running_corrects = 0\n",
    "\n",
    "        with tqdm(total=len(dataloaders[phase]), desc=f\"{phase} phase\") as pbar:\n",
    "            for inputs, labels, in dataloaders[phase]:\n",
    "                inputs = inputs.to(device)\n",
    "                labels = labels.to(device)\n",
    "\n",
    "                optimizer.zero_grad()\n",
    "\n",
    "                with torch.set_grad_enabled(phase == \"train\"):\n",
    "                    outputs = model(inputs)\n",
    "                    _, preds = torch.max(outputs, 1)\n",
    "                    loss = criterion(outputs, labels)\n",
    "\n",
    "                    if phase == \"train\":\n",
    "                        loss.backward()\n",
    "                        optimizer.step()\n",
    "\n",
    "                running_loss += loss.item() * inputs.size(0)\n",
    "                running_corrects += torch.sum(preds == labels.data)\n",
    "                batch_acc = (torch.sum(preds == labels.data).item() / inputs.size(0))\n",
    "                pbar.set_postfix({\"Loss\": running_loss, \"Accuracy\": f\"{batch_acc:.2f}%\"})\n",
    "                pbar.update(1)\n",
    "\n",
    "        if phase == \"train\":\n",
    "            scheduler.step()\n",
    "\n",
    "        epoch_loss = running_loss / len(dataloaders[phase].dataset)\n",
    "        epoch_acc = running_corrects.double() / len(dataloaders[phase].dataset)\n",
    "\n",
    "        if phase == \"train\":\n",
    "            train_acc.append(float(epoch_acc))\n",
    "            train_loss.append(float(epoch_loss))\n",
    "        else:\n",
    "            val_acc.append(float(epoch_acc))\n",
    "            val_loss.append(float(epoch_loss))\n",
    "\n",
    "        print(f'{phase} Loss: {epoch_loss:.4f} Acc: {epoch_acc:.4f}')\n",
    "    \n",
    "    print()\n",
    "    time_elapsed = time.time() - since\n",
    "    print(f\"Epoch finished at {time_elapsed // 60:.0f}m {time_elapsed % 60:.0f}s\")\n",
    "\n",
    "torch.save(model.state_dict(), \"Brazilian.pth\")\n",
    "\n",
    "\n",
    "plt.subplot(1, 2, 1)\n",
    "plt.plot(range(len(train_acc)), train_acc, label=\"Train\")\n",
    "plt.plot(range(len(val_acc)), val_acc, label=\"Validation\")\n",
    "plt.legend(loc=\"lower right\")\n",
    "plt.title(\"Accuracy\")\n",
    "\n",
    "plt.subplot(1, 2, 2)\n",
    "plt.plot(range(len(train_loss)), train_loss, label=\"Train\")\n",
    "plt.plot(range(len(val_loss)), val_loss, label=\"Validation\")\n",
    "plt.legend(\"lower right\")\n",
    "plt.title(\"Loss\")\n",
    "\n",
    "plt.show()"
   ]
  }
 ],
 "metadata": {
  "kernelspec": {
   "display_name": "pt",
   "language": "python",
   "name": "python3"
  },
  "language_info": {
   "codemirror_mode": {
    "name": "ipython",
    "version": 3
   },
   "file_extension": ".py",
   "mimetype": "text/x-python",
   "name": "python",
   "nbconvert_exporter": "python",
   "pygments_lexer": "ipython3",
   "version": "3.9.20"
  }
 },
 "nbformat": 4,
 "nbformat_minor": 2
}
